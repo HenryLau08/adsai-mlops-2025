{
  "cells": [
    {
      "cell_type": "markdown",
      "metadata": {
        "id": "view-in-github",
        "colab_type": "text"
      },
      "source": [
        "<a href=\"https://colab.research.google.com/github/HenryLau08/adsai-mlops-2025/blob/main/MLOPS.ipynb\" target=\"_parent\"><img src=\"https://colab.research.google.com/assets/colab-badge.svg\" alt=\"Open In Colab\"/></a>"
      ]
    },
    {
      "cell_type": "markdown",
      "metadata": {
        "id": "Mp5P1RzxQdQ5"
      },
      "source": []
    },
    {
      "cell_type": "code",
      "execution_count": null,
      "metadata": {
        "colab": {
          "base_uri": "https://localhost:8080/"
        },
        "id": "E-A5Y6GpQdQ7",
        "outputId": "73c788d1-53b2-410c-8823-da6f837167d2"
      },
      "outputs": [
        {
          "name": "stdout",
          "output_type": "stream",
          "text": [
            "Requirement already satisfied: kaggle in /usr/local/lib/python3.11/dist-packages (1.7.4.2)\n",
            "Requirement already satisfied: bleach in /usr/local/lib/python3.11/dist-packages (from kaggle) (6.2.0)\n",
            "Requirement already satisfied: certifi>=14.05.14 in /usr/local/lib/python3.11/dist-packages (from kaggle) (2025.1.31)\n",
            "Requirement already satisfied: charset-normalizer in /usr/local/lib/python3.11/dist-packages (from kaggle) (3.4.1)\n",
            "Requirement already satisfied: idna in /usr/local/lib/python3.11/dist-packages (from kaggle) (3.7)\n",
            "Requirement already satisfied: protobuf in /usr/local/lib/python3.11/dist-packages (from kaggle) (5.29.4)\n",
            "Requirement already satisfied: python-dateutil>=2.5.3 in /usr/local/lib/python3.11/dist-packages (from kaggle) (2.8.2)\n",
            "Requirement already satisfied: python-slugify in /usr/local/lib/python3.11/dist-packages (from kaggle) (8.0.4)\n",
            "Requirement already satisfied: requests in /usr/local/lib/python3.11/dist-packages (from kaggle) (2.32.3)\n",
            "Requirement already satisfied: setuptools>=21.0.0 in /usr/local/lib/python3.11/dist-packages (from kaggle) (75.2.0)\n",
            "Requirement already satisfied: six>=1.10 in /usr/local/lib/python3.11/dist-packages (from kaggle) (1.17.0)\n",
            "Requirement already satisfied: text-unidecode in /usr/local/lib/python3.11/dist-packages (from kaggle) (1.3)\n",
            "Requirement already satisfied: tqdm in /usr/local/lib/python3.11/dist-packages (from kaggle) (4.67.1)\n",
            "Requirement already satisfied: urllib3>=1.15.1 in /usr/local/lib/python3.11/dist-packages (from kaggle) (2.3.0)\n",
            "Requirement already satisfied: webencodings in /usr/local/lib/python3.11/dist-packages (from kaggle) (0.5.1)\n"
          ]
        }
      ],
      "source": [
        "# %pip install kaggle"
      ]
    },
    {
      "cell_type": "code",
      "execution_count": null,
      "metadata": {
        "id": "z5WJw-9CLqoL"
      },
      "outputs": [],
      "source": [
        "%pip install ultralytics"
      ]
    },
    {
      "cell_type": "code",
      "execution_count": null,
      "metadata": {
        "id": "gZBqnmPNLqoM"
      },
      "outputs": [],
      "source": [
        "%pip install mlflow"
      ]
    },
    {
      "cell_type": "code",
      "execution_count": 1,
      "metadata": {
        "colab": {
          "base_uri": "https://localhost:8080/"
        },
        "id": "zrjUz7KWRNYP",
        "outputId": "51c3293a-56a7-4100-e818-ae76c3c818a3"
      },
      "outputs": [
        {
          "output_type": "stream",
          "name": "stdout",
          "text": [
            "Mounted at /content/drive\n"
          ]
        }
      ],
      "source": [
        "from google.colab import drive\n",
        "drive.mount('/content/drive')"
      ]
    },
    {
      "cell_type": "code",
      "execution_count": 2,
      "metadata": {
        "id": "k8vMFxAqQdQ7"
      },
      "outputs": [],
      "source": [
        "# imports\n",
        "import os\n",
        "from pathlib import Path\n",
        "import cv2\n",
        "import shutil\n",
        "import zipfile\n",
        "import tensorflow as tf\n",
        "import matplotlib.pyplot as plt\n",
        "from tqdm import tqdm\n",
        "import pandas as pd\n",
        "import numpy as np\n",
        "import seaborn as sns\n",
        "from PIL import Image\n",
        "from concurrent.futures import ThreadPoolExecutor\n",
        "\n",
        "from sklearn.model_selection import train_test_split\n",
        "import yaml\n",
        "from ultralytics import YOLO\n",
        "import mlflow\n",
        "\n",
        "base_dir = Path(\"/content/drive/MyDrive/Colab Notebooks/data\")\n",
        "base_dir.mkdir(parents=True, exist_ok=True)\n",
        "os.makedirs(\"/root/.config/kaggle/\", exist_ok=True)\n"
      ]
    },
    {
      "cell_type": "code",
      "execution_count": 3,
      "metadata": {
        "id": "JO8Qcb-pLqoP"
      },
      "outputs": [],
      "source": [
        "# run it once\n",
        "shutil.move(\"kaggle.json\", \"/root/.config/kaggle/\") # manually upload your kaggle.json file and run it once\n",
        "!chmod 600 /root/.config/kaggle/kaggle.json\n",
        "import kaggle"
      ]
    },
    {
      "cell_type": "markdown",
      "metadata": {
        "id": "__DAnM6hQdQ8"
      },
      "source": [
        "Groepsnaam\n",
        "\n",
        "Groepsleden\n",
        "\n",
        "michal\n",
        "quincy\n",
        "henry\n",
        "moh\n",
        "jayden\n",
        "\n",
        "Opdrachtgever\n",
        "\n",
        "Tesla\n"
      ]
    },
    {
      "cell_type": "markdown",
      "metadata": {
        "id": "pUnOrFGeQdQ8"
      },
      "source": [
        "# 1. INLEIDING\n",
        "\n",
        "opdrachtbeschrijving\n",
        "\n",
        "\n",
        "Beschrijf het doel van de datapijplijn en geef een korte samenvatting van de stappen die je gaat volgen.\n"
      ]
    },
    {
      "cell_type": "markdown",
      "metadata": {
        "id": "7gDgkycaQdQ8"
      },
      "source": [
        "# 2. Data Ingestion\n",
        "Beschrijf hoe de data wordt ingeladen vanuit verschillende bronnen (Kaggle, Google Images, live camera feeds).\n",
        "\n",
        "\n",
        "Kaggle Datasets\n",
        "\n",
        "Beschrijf hoe je de datasets van Kaggle downloadt en inlaadt.\n",
        "\n",
        "Gebruik bijvoorbeeld de Kaggle API om de datasets te downloaden.\n",
        "\n",
        "Google Images\n",
        "\n",
        "Beschrijf hoe je afbeeldingen van Google Images haalt via web scraping of een API.\n",
        "\n",
        "Leg uit hoe je de afbeeldingen opslaat en organiseert.\n",
        "\n",
        "Live Camera Feeds\n",
        "\n",
        "Beschrijf hoe je live videofeeds verwerkt voor realtime voertuigdetectie.\n",
        "\n",
        "Leg uit hoe je frames uit de videofeeds haalt en deze gebruikt als input voor het model.\n",
        "\n"
      ]
    },
    {
      "cell_type": "markdown",
      "metadata": {
        "id": "6na4NkPgQdQ8"
      },
      "source": [
        "## 2.1 Kaggle Datasets"
      ]
    },
    {
      "cell_type": "code",
      "execution_count": null,
      "metadata": {
        "colab": {
          "base_uri": "https://localhost:8080/"
        },
        "id": "uGSBOmIWQdQ8",
        "outputId": "4ff75175-f20a-4b17-d244-aa58f30de7c8"
      },
      "outputs": [
        {
          "name": "stdout",
          "output_type": "stream",
          "text": [
            "Dataset URL: https://www.kaggle.com/datasets/sakshamjn/vehicle-detection-8-classes-object-detection\n"
          ]
        }
      ],
      "source": [
        "kaggle_path = str(data_dir + '/kaggle')\n",
        "os.makedirs(kaggle_path, exist_ok=True)\n",
        "\n",
        "kaggle.api.dataset_download_files(\"sakshamjn/vehicle-detection-8-classes-object-detection\", path=kaggle_path, unzip=True)"
      ]
    },
    {
      "cell_type": "code",
      "execution_count": 4,
      "metadata": {
        "id": "T88p1-KcxAgb"
      },
      "outputs": [],
      "source": [
        "images_path = \"/content/drive/MyDrive/Colab Notebooks/data/kaggle/train/images\"\n",
        "labels_path = \"/content/drive/MyDrive/Colab Notebooks/data/kaggle/train/labels\"\n",
        "\n",
        "images = [f for f in os.listdir(images_path) if f.endswith('.jpg')]\n",
        "labels = [f.replace('.jpg', '.txt') for f in images]"
      ]
    },
    {
      "cell_type": "code",
      "execution_count": 5,
      "metadata": {
        "id": "cTRt1KinLqoT"
      },
      "outputs": [],
      "source": [
        "def extract_labels_and_bboxes(label_file):\n",
        "    with open(label_file, 'r') as f:\n",
        "        for line in f:\n",
        "            parts = line.strip().split(' ')\n",
        "            yield int(parts[0]), [float(x) for x in parts[1:]]"
      ]
    },
    {
      "cell_type": "code",
      "execution_count": 6,
      "metadata": {
        "id": "bkBC1c3PLqoT"
      },
      "outputs": [],
      "source": [
        "def load_kaggle_dataset(images_path, labels_path):\n",
        "    data = []\n",
        "    images = [f for f in os.listdir(images_path) if f.endswith('.jpg')]\n",
        "    labels = [f.replace('.jpg', '.txt') for f in images]\n",
        "\n",
        "    for img, lbl in tqdm(zip(images, labels), total=len(images)):\n",
        "        label_file = os.path.join(labels_path, lbl)\n",
        "        for label, bbox in extract_labels_and_bboxes(label_file):\n",
        "            data.append({\n",
        "                'image_path': os.path.join(images_path, img),\n",
        "                'label_path': label_file,\n",
        "                'label': label,\n",
        "                'x_center': bbox[0],\n",
        "                'y_center': bbox[1],\n",
        "                'width': bbox[2],\n",
        "                'height': bbox[3]\n",
        "            })\n",
        "    return pd.DataFrame(data)"
      ]
    },
    {
      "cell_type": "code",
      "execution_count": 8,
      "metadata": {
        "id": "CAHEOuf0LqoT"
      },
      "outputs": [],
      "source": [
        "csv_path = os.path.join(base_dir, 'kaggle_data.csv')\n",
        "if not os.path.exists(csv_path):\n",
        "    df_kaggle = load_kaggle_dataset(images_path, labels_path)\n",
        "    df_kaggle.to_csv(csv_path, index=False)\n",
        "else:\n",
        "    df_kaggle = pd.read_csv(csv_path)"
      ]
    },
    {
      "cell_type": "code",
      "execution_count": 9,
      "metadata": {
        "id": "HA0vFkTULqoT",
        "outputId": "f0e7f002-9283-4f67-83fc-b32310878fdb",
        "colab": {
          "base_uri": "https://localhost:8080/",
          "height": 363
        }
      },
      "outputs": [
        {
          "output_type": "display_data",
          "data": {
            "text/plain": [
              "                                          image_path  \\\n",
              "0  /content/drive/MyDrive/Colab Notebooks/data/ka...   \n",
              "1  /content/drive/MyDrive/Colab Notebooks/data/ka...   \n",
              "2  /content/drive/MyDrive/Colab Notebooks/data/ka...   \n",
              "3  /content/drive/MyDrive/Colab Notebooks/data/ka...   \n",
              "4  /content/drive/MyDrive/Colab Notebooks/data/ka...   \n",
              "5  /content/drive/MyDrive/Colab Notebooks/data/ka...   \n",
              "6  /content/drive/MyDrive/Colab Notebooks/data/ka...   \n",
              "7  /content/drive/MyDrive/Colab Notebooks/data/ka...   \n",
              "8  /content/drive/MyDrive/Colab Notebooks/data/ka...   \n",
              "9  /content/drive/MyDrive/Colab Notebooks/data/ka...   \n",
              "\n",
              "                                          label_path  label  x_center  \\\n",
              "0  /content/drive/MyDrive/Colab Notebooks/data/ka...      2  0.521635   \n",
              "1  /content/drive/MyDrive/Colab Notebooks/data/ka...      2  0.570913   \n",
              "2  /content/drive/MyDrive/Colab Notebooks/data/ka...      7  0.395433   \n",
              "3  /content/drive/MyDrive/Colab Notebooks/data/ka...      4  0.930288   \n",
              "4  /content/drive/MyDrive/Colab Notebooks/data/ka...      4  0.618990   \n",
              "5  /content/drive/MyDrive/Colab Notebooks/data/ka...      7  0.459135   \n",
              "6  /content/drive/MyDrive/Colab Notebooks/data/ka...      4  0.102163   \n",
              "7  /content/drive/MyDrive/Colab Notebooks/data/ka...      2  0.497596   \n",
              "8  /content/drive/MyDrive/Colab Notebooks/data/ka...      7  0.490385   \n",
              "9  /content/drive/MyDrive/Colab Notebooks/data/ka...      7  0.721154   \n",
              "\n",
              "   y_center     width    height  \n",
              "0  0.295673  0.043269  0.086538  \n",
              "1  0.604567  0.098558  0.242788  \n",
              "2  0.537260  0.156250  0.382212  \n",
              "3  0.747596  0.052885  0.158654  \n",
              "4  0.290865  0.021635  0.057692  \n",
              "5  0.212740  0.067308  0.185096  \n",
              "6  0.419471  0.103365  0.122596  \n",
              "7  0.675481  0.096154  0.259615  \n",
              "8  0.403846  0.052885  0.168269  \n",
              "9  0.784856  0.250000  0.396635  "
            ],
            "text/html": [
              "\n",
              "  <div id=\"df-a60b4da4-9606-4e57-836c-630e0610ec66\" class=\"colab-df-container\">\n",
              "    <div>\n",
              "<style scoped>\n",
              "    .dataframe tbody tr th:only-of-type {\n",
              "        vertical-align: middle;\n",
              "    }\n",
              "\n",
              "    .dataframe tbody tr th {\n",
              "        vertical-align: top;\n",
              "    }\n",
              "\n",
              "    .dataframe thead th {\n",
              "        text-align: right;\n",
              "    }\n",
              "</style>\n",
              "<table border=\"1\" class=\"dataframe\">\n",
              "  <thead>\n",
              "    <tr style=\"text-align: right;\">\n",
              "      <th></th>\n",
              "      <th>image_path</th>\n",
              "      <th>label_path</th>\n",
              "      <th>label</th>\n",
              "      <th>x_center</th>\n",
              "      <th>y_center</th>\n",
              "      <th>width</th>\n",
              "      <th>height</th>\n",
              "    </tr>\n",
              "  </thead>\n",
              "  <tbody>\n",
              "    <tr>\n",
              "      <th>0</th>\n",
              "      <td>/content/drive/MyDrive/Colab Notebooks/data/ka...</td>\n",
              "      <td>/content/drive/MyDrive/Colab Notebooks/data/ka...</td>\n",
              "      <td>2</td>\n",
              "      <td>0.521635</td>\n",
              "      <td>0.295673</td>\n",
              "      <td>0.043269</td>\n",
              "      <td>0.086538</td>\n",
              "    </tr>\n",
              "    <tr>\n",
              "      <th>1</th>\n",
              "      <td>/content/drive/MyDrive/Colab Notebooks/data/ka...</td>\n",
              "      <td>/content/drive/MyDrive/Colab Notebooks/data/ka...</td>\n",
              "      <td>2</td>\n",
              "      <td>0.570913</td>\n",
              "      <td>0.604567</td>\n",
              "      <td>0.098558</td>\n",
              "      <td>0.242788</td>\n",
              "    </tr>\n",
              "    <tr>\n",
              "      <th>2</th>\n",
              "      <td>/content/drive/MyDrive/Colab Notebooks/data/ka...</td>\n",
              "      <td>/content/drive/MyDrive/Colab Notebooks/data/ka...</td>\n",
              "      <td>7</td>\n",
              "      <td>0.395433</td>\n",
              "      <td>0.537260</td>\n",
              "      <td>0.156250</td>\n",
              "      <td>0.382212</td>\n",
              "    </tr>\n",
              "    <tr>\n",
              "      <th>3</th>\n",
              "      <td>/content/drive/MyDrive/Colab Notebooks/data/ka...</td>\n",
              "      <td>/content/drive/MyDrive/Colab Notebooks/data/ka...</td>\n",
              "      <td>4</td>\n",
              "      <td>0.930288</td>\n",
              "      <td>0.747596</td>\n",
              "      <td>0.052885</td>\n",
              "      <td>0.158654</td>\n",
              "    </tr>\n",
              "    <tr>\n",
              "      <th>4</th>\n",
              "      <td>/content/drive/MyDrive/Colab Notebooks/data/ka...</td>\n",
              "      <td>/content/drive/MyDrive/Colab Notebooks/data/ka...</td>\n",
              "      <td>4</td>\n",
              "      <td>0.618990</td>\n",
              "      <td>0.290865</td>\n",
              "      <td>0.021635</td>\n",
              "      <td>0.057692</td>\n",
              "    </tr>\n",
              "    <tr>\n",
              "      <th>5</th>\n",
              "      <td>/content/drive/MyDrive/Colab Notebooks/data/ka...</td>\n",
              "      <td>/content/drive/MyDrive/Colab Notebooks/data/ka...</td>\n",
              "      <td>7</td>\n",
              "      <td>0.459135</td>\n",
              "      <td>0.212740</td>\n",
              "      <td>0.067308</td>\n",
              "      <td>0.185096</td>\n",
              "    </tr>\n",
              "    <tr>\n",
              "      <th>6</th>\n",
              "      <td>/content/drive/MyDrive/Colab Notebooks/data/ka...</td>\n",
              "      <td>/content/drive/MyDrive/Colab Notebooks/data/ka...</td>\n",
              "      <td>4</td>\n",
              "      <td>0.102163</td>\n",
              "      <td>0.419471</td>\n",
              "      <td>0.103365</td>\n",
              "      <td>0.122596</td>\n",
              "    </tr>\n",
              "    <tr>\n",
              "      <th>7</th>\n",
              "      <td>/content/drive/MyDrive/Colab Notebooks/data/ka...</td>\n",
              "      <td>/content/drive/MyDrive/Colab Notebooks/data/ka...</td>\n",
              "      <td>2</td>\n",
              "      <td>0.497596</td>\n",
              "      <td>0.675481</td>\n",
              "      <td>0.096154</td>\n",
              "      <td>0.259615</td>\n",
              "    </tr>\n",
              "    <tr>\n",
              "      <th>8</th>\n",
              "      <td>/content/drive/MyDrive/Colab Notebooks/data/ka...</td>\n",
              "      <td>/content/drive/MyDrive/Colab Notebooks/data/ka...</td>\n",
              "      <td>7</td>\n",
              "      <td>0.490385</td>\n",
              "      <td>0.403846</td>\n",
              "      <td>0.052885</td>\n",
              "      <td>0.168269</td>\n",
              "    </tr>\n",
              "    <tr>\n",
              "      <th>9</th>\n",
              "      <td>/content/drive/MyDrive/Colab Notebooks/data/ka...</td>\n",
              "      <td>/content/drive/MyDrive/Colab Notebooks/data/ka...</td>\n",
              "      <td>7</td>\n",
              "      <td>0.721154</td>\n",
              "      <td>0.784856</td>\n",
              "      <td>0.250000</td>\n",
              "      <td>0.396635</td>\n",
              "    </tr>\n",
              "  </tbody>\n",
              "</table>\n",
              "</div>\n",
              "    <div class=\"colab-df-buttons\">\n",
              "\n",
              "  <div class=\"colab-df-container\">\n",
              "    <button class=\"colab-df-convert\" onclick=\"convertToInteractive('df-a60b4da4-9606-4e57-836c-630e0610ec66')\"\n",
              "            title=\"Convert this dataframe to an interactive table.\"\n",
              "            style=\"display:none;\">\n",
              "\n",
              "  <svg xmlns=\"http://www.w3.org/2000/svg\" height=\"24px\" viewBox=\"0 -960 960 960\">\n",
              "    <path d=\"M120-120v-720h720v720H120Zm60-500h600v-160H180v160Zm220 220h160v-160H400v160Zm0 220h160v-160H400v160ZM180-400h160v-160H180v160Zm440 0h160v-160H620v160ZM180-180h160v-160H180v160Zm440 0h160v-160H620v160Z\"/>\n",
              "  </svg>\n",
              "    </button>\n",
              "\n",
              "  <style>\n",
              "    .colab-df-container {\n",
              "      display:flex;\n",
              "      gap: 12px;\n",
              "    }\n",
              "\n",
              "    .colab-df-convert {\n",
              "      background-color: #E8F0FE;\n",
              "      border: none;\n",
              "      border-radius: 50%;\n",
              "      cursor: pointer;\n",
              "      display: none;\n",
              "      fill: #1967D2;\n",
              "      height: 32px;\n",
              "      padding: 0 0 0 0;\n",
              "      width: 32px;\n",
              "    }\n",
              "\n",
              "    .colab-df-convert:hover {\n",
              "      background-color: #E2EBFA;\n",
              "      box-shadow: 0px 1px 2px rgba(60, 64, 67, 0.3), 0px 1px 3px 1px rgba(60, 64, 67, 0.15);\n",
              "      fill: #174EA6;\n",
              "    }\n",
              "\n",
              "    .colab-df-buttons div {\n",
              "      margin-bottom: 4px;\n",
              "    }\n",
              "\n",
              "    [theme=dark] .colab-df-convert {\n",
              "      background-color: #3B4455;\n",
              "      fill: #D2E3FC;\n",
              "    }\n",
              "\n",
              "    [theme=dark] .colab-df-convert:hover {\n",
              "      background-color: #434B5C;\n",
              "      box-shadow: 0px 1px 3px 1px rgba(0, 0, 0, 0.15);\n",
              "      filter: drop-shadow(0px 1px 2px rgba(0, 0, 0, 0.3));\n",
              "      fill: #FFFFFF;\n",
              "    }\n",
              "  </style>\n",
              "\n",
              "    <script>\n",
              "      const buttonEl =\n",
              "        document.querySelector('#df-a60b4da4-9606-4e57-836c-630e0610ec66 button.colab-df-convert');\n",
              "      buttonEl.style.display =\n",
              "        google.colab.kernel.accessAllowed ? 'block' : 'none';\n",
              "\n",
              "      async function convertToInteractive(key) {\n",
              "        const element = document.querySelector('#df-a60b4da4-9606-4e57-836c-630e0610ec66');\n",
              "        const dataTable =\n",
              "          await google.colab.kernel.invokeFunction('convertToInteractive',\n",
              "                                                    [key], {});\n",
              "        if (!dataTable) return;\n",
              "\n",
              "        const docLinkHtml = 'Like what you see? Visit the ' +\n",
              "          '<a target=\"_blank\" href=https://colab.research.google.com/notebooks/data_table.ipynb>data table notebook</a>'\n",
              "          + ' to learn more about interactive tables.';\n",
              "        element.innerHTML = '';\n",
              "        dataTable['output_type'] = 'display_data';\n",
              "        await google.colab.output.renderOutput(dataTable, element);\n",
              "        const docLink = document.createElement('div');\n",
              "        docLink.innerHTML = docLinkHtml;\n",
              "        element.appendChild(docLink);\n",
              "      }\n",
              "    </script>\n",
              "  </div>\n",
              "\n",
              "\n",
              "    <div id=\"df-46a79e95-f71e-4d65-957c-88698405916d\">\n",
              "      <button class=\"colab-df-quickchart\" onclick=\"quickchart('df-46a79e95-f71e-4d65-957c-88698405916d')\"\n",
              "                title=\"Suggest charts\"\n",
              "                style=\"display:none;\">\n",
              "\n",
              "<svg xmlns=\"http://www.w3.org/2000/svg\" height=\"24px\"viewBox=\"0 0 24 24\"\n",
              "     width=\"24px\">\n",
              "    <g>\n",
              "        <path d=\"M19 3H5c-1.1 0-2 .9-2 2v14c0 1.1.9 2 2 2h14c1.1 0 2-.9 2-2V5c0-1.1-.9-2-2-2zM9 17H7v-7h2v7zm4 0h-2V7h2v10zm4 0h-2v-4h2v4z\"/>\n",
              "    </g>\n",
              "</svg>\n",
              "      </button>\n",
              "\n",
              "<style>\n",
              "  .colab-df-quickchart {\n",
              "      --bg-color: #E8F0FE;\n",
              "      --fill-color: #1967D2;\n",
              "      --hover-bg-color: #E2EBFA;\n",
              "      --hover-fill-color: #174EA6;\n",
              "      --disabled-fill-color: #AAA;\n",
              "      --disabled-bg-color: #DDD;\n",
              "  }\n",
              "\n",
              "  [theme=dark] .colab-df-quickchart {\n",
              "      --bg-color: #3B4455;\n",
              "      --fill-color: #D2E3FC;\n",
              "      --hover-bg-color: #434B5C;\n",
              "      --hover-fill-color: #FFFFFF;\n",
              "      --disabled-bg-color: #3B4455;\n",
              "      --disabled-fill-color: #666;\n",
              "  }\n",
              "\n",
              "  .colab-df-quickchart {\n",
              "    background-color: var(--bg-color);\n",
              "    border: none;\n",
              "    border-radius: 50%;\n",
              "    cursor: pointer;\n",
              "    display: none;\n",
              "    fill: var(--fill-color);\n",
              "    height: 32px;\n",
              "    padding: 0;\n",
              "    width: 32px;\n",
              "  }\n",
              "\n",
              "  .colab-df-quickchart:hover {\n",
              "    background-color: var(--hover-bg-color);\n",
              "    box-shadow: 0 1px 2px rgba(60, 64, 67, 0.3), 0 1px 3px 1px rgba(60, 64, 67, 0.15);\n",
              "    fill: var(--button-hover-fill-color);\n",
              "  }\n",
              "\n",
              "  .colab-df-quickchart-complete:disabled,\n",
              "  .colab-df-quickchart-complete:disabled:hover {\n",
              "    background-color: var(--disabled-bg-color);\n",
              "    fill: var(--disabled-fill-color);\n",
              "    box-shadow: none;\n",
              "  }\n",
              "\n",
              "  .colab-df-spinner {\n",
              "    border: 2px solid var(--fill-color);\n",
              "    border-color: transparent;\n",
              "    border-bottom-color: var(--fill-color);\n",
              "    animation:\n",
              "      spin 1s steps(1) infinite;\n",
              "  }\n",
              "\n",
              "  @keyframes spin {\n",
              "    0% {\n",
              "      border-color: transparent;\n",
              "      border-bottom-color: var(--fill-color);\n",
              "      border-left-color: var(--fill-color);\n",
              "    }\n",
              "    20% {\n",
              "      border-color: transparent;\n",
              "      border-left-color: var(--fill-color);\n",
              "      border-top-color: var(--fill-color);\n",
              "    }\n",
              "    30% {\n",
              "      border-color: transparent;\n",
              "      border-left-color: var(--fill-color);\n",
              "      border-top-color: var(--fill-color);\n",
              "      border-right-color: var(--fill-color);\n",
              "    }\n",
              "    40% {\n",
              "      border-color: transparent;\n",
              "      border-right-color: var(--fill-color);\n",
              "      border-top-color: var(--fill-color);\n",
              "    }\n",
              "    60% {\n",
              "      border-color: transparent;\n",
              "      border-right-color: var(--fill-color);\n",
              "    }\n",
              "    80% {\n",
              "      border-color: transparent;\n",
              "      border-right-color: var(--fill-color);\n",
              "      border-bottom-color: var(--fill-color);\n",
              "    }\n",
              "    90% {\n",
              "      border-color: transparent;\n",
              "      border-bottom-color: var(--fill-color);\n",
              "    }\n",
              "  }\n",
              "</style>\n",
              "\n",
              "      <script>\n",
              "        async function quickchart(key) {\n",
              "          const quickchartButtonEl =\n",
              "            document.querySelector('#' + key + ' button');\n",
              "          quickchartButtonEl.disabled = true;  // To prevent multiple clicks.\n",
              "          quickchartButtonEl.classList.add('colab-df-spinner');\n",
              "          try {\n",
              "            const charts = await google.colab.kernel.invokeFunction(\n",
              "                'suggestCharts', [key], {});\n",
              "          } catch (error) {\n",
              "            console.error('Error during call to suggestCharts:', error);\n",
              "          }\n",
              "          quickchartButtonEl.classList.remove('colab-df-spinner');\n",
              "          quickchartButtonEl.classList.add('colab-df-quickchart-complete');\n",
              "        }\n",
              "        (() => {\n",
              "          let quickchartButtonEl =\n",
              "            document.querySelector('#df-46a79e95-f71e-4d65-957c-88698405916d button');\n",
              "          quickchartButtonEl.style.display =\n",
              "            google.colab.kernel.accessAllowed ? 'block' : 'none';\n",
              "        })();\n",
              "      </script>\n",
              "    </div>\n",
              "\n",
              "    </div>\n",
              "  </div>\n"
            ],
            "application/vnd.google.colaboratory.intrinsic+json": {
              "type": "dataframe",
              "summary": "{\n  \"name\": \"display(df_kaggle\",\n  \"rows\": 10,\n  \"fields\": [\n    {\n      \"column\": \"image_path\",\n      \"properties\": {\n        \"dtype\": \"category\",\n        \"num_unique_values\": 3,\n        \"samples\": [\n          \"/content/drive/MyDrive/Colab Notebooks/data/kaggle/train/images/ulu2536_jpg.rf.276d908acec54081cf8a2169df222718.jpg\",\n          \"/content/drive/MyDrive/Colab Notebooks/data/kaggle/train/images/ulu2537_jpg.rf.10d89e03932ad4599648da09d51c90db.jpg\",\n          \"/content/drive/MyDrive/Colab Notebooks/data/kaggle/train/images/ulu2538_jpg.rf.aea010fc46ee981acb11dac1b20c17d3.jpg\"\n        ],\n        \"semantic_type\": \"\",\n        \"description\": \"\"\n      }\n    },\n    {\n      \"column\": \"label_path\",\n      \"properties\": {\n        \"dtype\": \"category\",\n        \"num_unique_values\": 3,\n        \"samples\": [\n          \"/content/drive/MyDrive/Colab Notebooks/data/kaggle/train/labels/ulu2536_jpg.rf.276d908acec54081cf8a2169df222718.txt\",\n          \"/content/drive/MyDrive/Colab Notebooks/data/kaggle/train/labels/ulu2537_jpg.rf.10d89e03932ad4599648da09d51c90db.txt\",\n          \"/content/drive/MyDrive/Colab Notebooks/data/kaggle/train/labels/ulu2538_jpg.rf.aea010fc46ee981acb11dac1b20c17d3.txt\"\n        ],\n        \"semantic_type\": \"\",\n        \"description\": \"\"\n      }\n    },\n    {\n      \"column\": \"label\",\n      \"properties\": {\n        \"dtype\": \"number\",\n        \"std\": 2,\n        \"min\": 2,\n        \"max\": 7,\n        \"num_unique_values\": 3,\n        \"samples\": [\n          2,\n          7,\n          4\n        ],\n        \"semantic_type\": \"\",\n        \"description\": \"\"\n      }\n    },\n    {\n      \"column\": \"x_center\",\n      \"properties\": {\n        \"dtype\": \"number\",\n        \"std\": 0.21479227086021713,\n        \"min\": 0.102163,\n        \"max\": 0.930288,\n        \"num_unique_values\": 10,\n        \"samples\": [\n          0.490385,\n          0.570913,\n          0.459135\n        ],\n        \"semantic_type\": \"\",\n        \"description\": \"\"\n      }\n    },\n    {\n      \"column\": \"y_center\",\n      \"properties\": {\n        \"dtype\": \"number\",\n        \"std\": 0.2025455318112997,\n        \"min\": 0.21274,\n        \"max\": 0.784856,\n        \"num_unique_values\": 10,\n        \"samples\": [\n          0.403846,\n          0.604567,\n          0.21274\n        ],\n        \"semantic_type\": \"\",\n        \"description\": \"\"\n      }\n    },\n    {\n      \"column\": \"width\",\n      \"properties\": {\n        \"dtype\": \"number\",\n        \"std\": 0.06685583541131203,\n        \"min\": 0.021635,\n        \"max\": 0.25,\n        \"num_unique_values\": 9,\n        \"samples\": [\n          0.096154,\n          0.098558,\n          0.067308\n        ],\n        \"semantic_type\": \"\",\n        \"description\": \"\"\n      }\n    },\n    {\n      \"column\": \"height\",\n      \"properties\": {\n        \"dtype\": \"number\",\n        \"std\": 0.11496144534992785,\n        \"min\": 0.057692,\n        \"max\": 0.396635,\n        \"num_unique_values\": 10,\n        \"samples\": [\n          0.168269,\n          0.242788,\n          0.185096\n        ],\n        \"semantic_type\": \"\",\n        \"description\": \"\"\n      }\n    }\n  ]\n}"
            }
          },
          "metadata": {}
        }
      ],
      "source": [
        "display(df_kaggle.head(10))"
      ]
    },
    {
      "cell_type": "code",
      "execution_count": null,
      "metadata": {
        "id": "F-diQyo3LqoU"
      },
      "outputs": [],
      "source": [
        "def get_image_size(path):\n",
        "    try:\n",
        "        with Image.open(path) as img:\n",
        "            return img.size\n",
        "    except Exception as e:\n",
        "        print(f\"Fout bij openen van {path}: {e}\")\n",
        "        return None\n",
        "\n",
        "with ThreadPoolExecutor(max_workers=8) as executor:\n",
        "    sizes = list(executor.map(get_image_size, df_kaggle['image_path']))\n",
        "\n",
        "# Remove None values and get unique sizes\n",
        "image_sizes = sorted(set(s for s in sizes if s is not None))\n",
        "\n",
        "print(image_sizes)"
      ]
    },
    {
      "cell_type": "code",
      "execution_count": null,
      "metadata": {
        "id": "D4xw1xXuLqoU"
      },
      "outputs": [],
      "source": [
        "def show_image_with_all_bboxes(df, class_names=None, filter_label=None, amount=5, shuffle=False):\n",
        "\n",
        "    if filter_label is not None:\n",
        "        unique_images = df[df['label'] == filter_label]['image_path'].unique()\n",
        "    else:\n",
        "        unique_images = df['image_path'].unique()\n",
        "\n",
        "    if shuffle:\n",
        "        np.random.shuffle(unique_images)\n",
        "\n",
        "    for image_path in unique_images[:amount]:\n",
        "        # Filter rows for the specific image\n",
        "        image_rows = df[df['image_path'] == image_path]\n",
        "\n",
        "        # Load the image\n",
        "        image = cv2.imread(image_path)\n",
        "        if image is None:\n",
        "            print(f\"Image not found: {image_path}\")\n",
        "            return\n",
        "        image = cv2.cvtColor(image, cv2.COLOR_BGR2RGB)\n",
        "        h, w, _ = image.shape\n",
        "\n",
        "        # Draw all bounding boxes for this image\n",
        "        for _, row in image_rows.iterrows():\n",
        "            cls = int(row['label'])\n",
        "            x_center, y_center = row['x_center'], row['y_center']\n",
        "            width, height = row['width'], row['height']\n",
        "\n",
        "            x1 = int((x_center - width / 2) * w)\n",
        "            y1 = int((y_center - height / 2) * h)\n",
        "            x2 = int((x_center + width / 2) * w)\n",
        "            y2 = int((y_center + height / 2) * h)\n",
        "\n",
        "            # Use different color for filter_label if provided\n",
        "            if filter_label is not None and cls == filter_label:\n",
        "                color = (0, 255, 0)  # Green for filtered label\n",
        "            else:\n",
        "                color = (255, 0, 0)  # Red for others\n",
        "\n",
        "            cv2.rectangle(image, (x1, y1), (x2, y2), color, 2)\n",
        "\n",
        "            label_text = class_names[cls] if class_names else str(cls)\n",
        "            cv2.putText(image, label_text, (x1, y1 - 10), cv2.FONT_HERSHEY_SIMPLEX, 0.6, color, 2)\n",
        "\n",
        "        # Show the result\n",
        "        plt.figure(figsize=(10, 10))\n",
        "        plt.imshow(image)\n",
        "        plt.axis('off')\n",
        "        plt.show()"
      ]
    },
    {
      "cell_type": "code",
      "execution_count": null,
      "metadata": {
        "id": "_QKGn9zOLqoU"
      },
      "outputs": [],
      "source": [
        "show_image_with_all_bboxes(df_kaggle, filter_label=0)"
      ]
    },
    {
      "cell_type": "markdown",
      "metadata": {
        "id": "1tfKrF-bLqoU"
      },
      "source": [
        "Kaggle dataframe Labels:  \n",
        "0 = Auto  \n",
        "1 = Bus  \n",
        "2 = Car  \n",
        "3 = LCV  \n",
        "4 = Motorcycle  \n",
        "5 = Multi-Axle  \n",
        "6 = Tractor  \n",
        "7 = Truck"
      ]
    },
    {
      "cell_type": "code",
      "execution_count": null,
      "metadata": {
        "id": "d2uGGfZDLqoU"
      },
      "outputs": [],
      "source": []
    },
    {
      "cell_type": "markdown",
      "metadata": {
        "id": "FYMk0yW6QdQ8"
      },
      "source": [
        "## 2.2 Google Images\n"
      ]
    },
    {
      "cell_type": "code",
      "execution_count": null,
      "metadata": {
        "id": "-1EYdPwHQdQ8"
      },
      "outputs": [],
      "source": []
    },
    {
      "cell_type": "markdown",
      "metadata": {
        "id": "cjdGEqjJQdQ8"
      },
      "source": [
        "## 2.3 Live Camera Feeds\n"
      ]
    },
    {
      "cell_type": "code",
      "execution_count": null,
      "metadata": {
        "id": "e0zyCqv3QdQ8"
      },
      "outputs": [],
      "source": []
    },
    {
      "cell_type": "markdown",
      "metadata": {
        "id": "BI4SzLFmQdQ9"
      },
      "source": [
        "# 3. Data Opschonen en Transformeren\n",
        "\n",
        "Beschrijf de stappen voor data cleaning, data augmentation en data transformation.\n",
        "\n",
        "In deze sectie beschrijf je de stappen voor het opschonen en transformeren van de data. Gebruik markdown-cellen om elke stap te beschrijven en code-cellen om de transformaties uit te voeren.\n",
        "\n",
        "Data Cleaning\n",
        "\n",
        "Beschrijf hoe je de afbeeldingen opschoont (bijvoorbeeld door ze allemaal naar hetzelfde formaat te converteren).\n",
        "\n",
        "Voer kleurnormalisatie uit en pas cropping en padding toe waar nodig.\n",
        "\n",
        "Data Augmentation\n",
        "\n",
        "Beschrijf hoe je data augmentation toepast om de dataset te vergroten en het model robuuster te maken.\n",
        "\n",
        "Gebruik technieken zoals rotatie, spiegeling, schalen, translatie, shearing en cropping.\n",
        "\n",
        "Data Transformation\n",
        "\n",
        "Beschrijf hoe je de afbeeldingen transformeert om ze geschikt te maken voor machine learning (bijvoorbeeld normalisatie en kleurtransformaties)."
      ]
    },
    {
      "cell_type": "code",
      "source": [],
      "metadata": {
        "id": "sj9aDekuQjLq"
      },
      "execution_count": null,
      "outputs": []
    },
    {
      "cell_type": "markdown",
      "metadata": {
        "id": "ndrHeKoFQdQ9"
      },
      "source": [
        "## 3.1 Data Cleaning"
      ]
    },
    {
      "cell_type": "code",
      "execution_count": null,
      "metadata": {
        "id": "MNSeuXpHLqoY"
      },
      "outputs": [],
      "source": []
    },
    {
      "cell_type": "markdown",
      "metadata": {
        "id": "_6cyWCiDQdQ9"
      },
      "source": [
        "## 3.2 Data Augmentation"
      ]
    },
    {
      "cell_type": "code",
      "execution_count": null,
      "metadata": {
        "id": "kML6J1naQdQ9"
      },
      "outputs": [],
      "source": []
    },
    {
      "cell_type": "markdown",
      "metadata": {
        "id": "HzWvkseuQdQ9"
      },
      "source": [
        "## 3.3 Data Transformation"
      ]
    },
    {
      "cell_type": "code",
      "execution_count": null,
      "metadata": {
        "id": "UQdrfWqKQdQ9"
      },
      "outputs": [],
      "source": []
    },
    {
      "cell_type": "markdown",
      "metadata": {
        "id": "uky6myx2QdQ9"
      },
      "source": [
        "# 4. Machine Learning Pipeline\n",
        "\n",
        "Beschrijf hoe het objectdetectiemodel wordt getraind en geëvalueerd.\n",
        "\n",
        "\n",
        "In deze sectie beschrijf je hoe je het objectdetectiemodel traint en evalueert. Gebruik markdown-cellen om elke stap te beschrijven en code-cellen om het model te trainen en te evalueren.\n",
        "\n",
        "Objectdetectie Model\n",
        "\n",
        "Beschrijf hoe je een objectdetectiemodel (bijvoorbeeld YOLO, Faster R-CNN of EfficientDet) traint op de dataset.\n",
        "\n",
        "Leg uit hoe je het model evalueert met behulp van metrieken zoals precisie, recall en F1-score.\n",
        "\n",
        "Image Captioning\n",
        "\n",
        "Beschrijf eventueel hoe je een image captioning-model toevoegt om beschrijvingen van gedetecteerde voertuigen te genereren.\n",
        "\n"
      ]
    },
    {
      "cell_type": "markdown",
      "metadata": {
        "id": "y0EMhbMAQdQ9"
      },
      "source": [
        "## 4.1 Train-Test Split"
      ]
    },
    {
      "cell_type": "code",
      "source": [
        "destination_root = '/content/drive/MyDrive/Colab Notebooks/data/working/dataset'\n",
        "\n",
        "os.makedirs(os.path.join(destination_root, 'train/images'), exist_ok=True)\n",
        "os.makedirs(os.path.join(destination_root, 'train/labels'), exist_ok=True)\n",
        "os.makedirs(os.path.join(destination_root, 'test/images'), exist_ok=True)\n",
        "os.makedirs(os.path.join(destination_root, 'test/labels'), exist_ok=True)\n",
        "\n",
        "train_images, test_images, train_labels, test_labels = train_test_split(images, labels, test_size=0.2, random_state=42)\n",
        "\n",
        "for img, lbl in zip(train_images, train_labels):\n",
        "    shutil.copy(os.path.join(images_path, img), os.path.join(destination_root, 'train/images', img))\n",
        "    shutil.copy(os.path.join(labels_path, lbl), os.path.join(destination_root, 'train/labels', lbl))\n",
        "\n",
        "for img, lbl in zip(test_images, test_labels):\n",
        "    shutil.copy(os.path.join(images_path, img), os.path.join(destination_root, 'test/images', img))\n",
        "    shutil.copy(os.path.join(labels_path, lbl), os.path.join(destination_root, 'test/labels', lbl))"
      ],
      "metadata": {
        "id": "EyAbgH4JOf8x"
      },
      "execution_count": null,
      "outputs": []
    },
    {
      "cell_type": "code",
      "execution_count": null,
      "metadata": {
        "id": "tygQM787QdQ9"
      },
      "outputs": [],
      "source": []
    },
    {
      "cell_type": "markdown",
      "metadata": {
        "id": "9FLuy_0-QdQ9"
      },
      "source": [
        "## 4.2 Model Bouwen"
      ]
    },
    {
      "cell_type": "code",
      "execution_count": null,
      "metadata": {
        "id": "HTlsqy2uQdQ9"
      },
      "outputs": [],
      "source": [
        "data_yaml = {\n",
        "    'train': '/kaggle/working/dataset/train/images',\n",
        "    'val': '/kaggle/working/dataset/test/images',\n",
        "    'names': ['auto', 'bus', 'car', 'lcv', 'motorcycle', 'multiaxle', 'tractor', 'truck']\n",
        "}\n",
        "\n",
        "with open('/kaggle/working/dataset/data.yaml', 'w') as file:\n",
        "    yaml.dump(data_yaml, file, default_flow_style=False)"
      ]
    },
    {
      "cell_type": "code",
      "source": [],
      "metadata": {
        "id": "tx94SOcXQxEU"
      },
      "execution_count": null,
      "outputs": []
    },
    {
      "cell_type": "markdown",
      "metadata": {
        "id": "c6kovet7QdQ9"
      },
      "source": [
        "## 4.3 Model Trainen"
      ]
    },
    {
      "cell_type": "code",
      "execution_count": null,
      "metadata": {
        "id": "EfLm4_-TQdQ9"
      },
      "outputs": [],
      "source": []
    },
    {
      "cell_type": "markdown",
      "metadata": {
        "id": "2GGBCnI1QdQ9"
      },
      "source": [
        "## 4.4 Model Evalueren"
      ]
    },
    {
      "cell_type": "code",
      "execution_count": null,
      "metadata": {
        "id": "B8-aALL4QdQ9"
      },
      "outputs": [],
      "source": []
    },
    {
      "cell_type": "markdown",
      "metadata": {
        "id": "cbBPSIkUQdQ-"
      },
      "source": [
        "# 5. Deployment\n",
        "\n",
        "Beschrijf hoe het model wordt gedeployed op edge-apparaten en in de cloud.\n",
        "\n",
        "In deze sectie beschrijf je hoe je het model deployt op edge-apparaten en in de cloud. Gebruik markdown-cellen om de deploymentstrategie te beschrijven.\n",
        "\n",
        "Edge Deployment\n",
        "\n",
        "Beschrijf hoe je het model implementeert op edge-apparaten zoals slimme camera's of embedded systemen.\n",
        "\n",
        "Leg uit hoe je ervoor zorgt dat het model realtime voertuigdetectie kan uitvoeren.\n",
        "\n",
        "Cloud Deployment\n",
        "\n",
        "Beschrijf hoe je het geavanceerde deep learning-model in de cloud deployt voor voertuigclassificatie.\n",
        "\n"
      ]
    },
    {
      "cell_type": "markdown",
      "metadata": {
        "id": "TxiDu_LrQdQ-"
      },
      "source": [
        "## 5.1 Edge Deployment"
      ]
    },
    {
      "cell_type": "code",
      "execution_count": null,
      "metadata": {
        "id": "_Bbm3H5mQdQ-"
      },
      "outputs": [],
      "source": []
    },
    {
      "cell_type": "markdown",
      "metadata": {
        "id": "KXAHuDHRQdRB"
      },
      "source": [
        "## 5.2 Cloud Deployment"
      ]
    },
    {
      "cell_type": "code",
      "execution_count": null,
      "metadata": {
        "id": "1myVF9Q0QdRB"
      },
      "outputs": [],
      "source": []
    },
    {
      "cell_type": "markdown",
      "metadata": {
        "id": "xm_hHRIdQdRB"
      },
      "source": [
        "# 6. Monitoring en Feedback\n",
        "\n",
        "Beschrijf hoe de prestaties van het model worden gemonitord en hoe het model wordt hertraind op basis van nieuwe data.\n",
        "\n",
        "In deze sectie beschrijf je hoe je de prestaties van het model monitort en hoe je het model hertraind op basis van nieuwe data. Gebruik markdown-cellen om de monitoringstrategie te beschrijven.\n",
        "\n",
        "Data Drift Detection\n",
        "\n",
        "Beschrijf hoe je veranderingen in de inkomende data detecteert en hoe je hierop reageert.\n",
        "\n",
        "Model Performance Monitoring\n",
        "\n",
        "Beschrijf hoe je de nauwkeurigheid, recall en precision van het model continu monitort.\n",
        "\n",
        "Leg uit hoe je automatisch logging van verkeerde voorspellingen implementeert.\n",
        "\n",
        "Hertraining\n",
        "\n",
        "Beschrijf hoe je het model periodiek hertraind op basis van nieuwe data en feedback.\n",
        "\n",
        "7. Conclusie\n"
      ]
    },
    {
      "cell_type": "markdown",
      "metadata": {
        "id": "ypUthkrHQdRB"
      },
      "source": [
        "## 6.1 Data Drift Detection"
      ]
    },
    {
      "cell_type": "code",
      "execution_count": null,
      "metadata": {
        "id": "FAerww7tQdRB"
      },
      "outputs": [],
      "source": []
    },
    {
      "cell_type": "markdown",
      "metadata": {
        "id": "WarfJAa1QdRB"
      },
      "source": [
        "## 6.2 Hertraining"
      ]
    },
    {
      "cell_type": "code",
      "execution_count": null,
      "metadata": {
        "id": "uLQSwwI1QdRB"
      },
      "outputs": [],
      "source": []
    },
    {
      "cell_type": "markdown",
      "metadata": {
        "id": "ISF87ObeQdRB"
      },
      "source": [
        "# 7. Conclusie\n",
        "\n",
        "Geef een samenvatting van de datapijplijn en bespreek eventuele uitdagingen of verbeterpunten.\n",
        "\n",
        "In deze sectie geef je een samenvatting van de datapijplijn en bespreek je eventuele uitdagingen of verbeterpunten. Gebruik markdown-cellen om de conclusie te schrijven.\n",
        "\n",
        "\n"
      ]
    },
    {
      "cell_type": "markdown",
      "metadata": {
        "id": "ASn_qUZjQdRB"
      },
      "source": [
        "# 8. Bronvermelding"
      ]
    }
  ],
  "metadata": {
    "colab": {
      "provenance": [],
      "include_colab_link": true
    },
    "kernelspec": {
      "display_name": "base",
      "language": "python",
      "name": "python3"
    },
    "language_info": {
      "codemirror_mode": {
        "name": "ipython",
        "version": 3
      },
      "file_extension": ".py",
      "mimetype": "text/x-python",
      "name": "python",
      "nbconvert_exporter": "python",
      "pygments_lexer": "ipython3",
      "version": "3.12.4"
    }
  },
  "nbformat": 4,
  "nbformat_minor": 0
}