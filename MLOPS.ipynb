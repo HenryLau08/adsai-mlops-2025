{
  "cells": [
    {
      "cell_type": "markdown",
      "metadata": {
        "colab_type": "text",
        "id": "view-in-github"
      },
      "source": [
        "<a href=\"https://colab.research.google.com/github/HenryLau08/adsai-mlops-2025/blob/main/MLOPS.ipynb\" target=\"_parent\"><img src=\"https://colab.research.google.com/assets/colab-badge.svg\" alt=\"Open In Colab\"/></a>"
      ]
    },
    {
      "cell_type": "markdown",
      "metadata": {
        "id": "Mp5P1RzxQdQ5"
      },
      "source": []
    },
    {
      "cell_type": "code",
      "execution_count": null,
      "metadata": {
        "colab": {
          "base_uri": "https://localhost:8080/"
        },
        "id": "E-A5Y6GpQdQ7",
        "outputId": "73c788d1-53b2-410c-8823-da6f837167d2"
      },
      "outputs": [
        {
          "name": "stdout",
          "output_type": "stream",
          "text": [
            "Requirement already satisfied: kaggle in /usr/local/lib/python3.11/dist-packages (1.7.4.2)\n",
            "Requirement already satisfied: bleach in /usr/local/lib/python3.11/dist-packages (from kaggle) (6.2.0)\n",
            "Requirement already satisfied: certifi>=14.05.14 in /usr/local/lib/python3.11/dist-packages (from kaggle) (2025.1.31)\n",
            "Requirement already satisfied: charset-normalizer in /usr/local/lib/python3.11/dist-packages (from kaggle) (3.4.1)\n",
            "Requirement already satisfied: idna in /usr/local/lib/python3.11/dist-packages (from kaggle) (3.7)\n",
            "Requirement already satisfied: protobuf in /usr/local/lib/python3.11/dist-packages (from kaggle) (5.29.4)\n",
            "Requirement already satisfied: python-dateutil>=2.5.3 in /usr/local/lib/python3.11/dist-packages (from kaggle) (2.8.2)\n",
            "Requirement already satisfied: python-slugify in /usr/local/lib/python3.11/dist-packages (from kaggle) (8.0.4)\n",
            "Requirement already satisfied: requests in /usr/local/lib/python3.11/dist-packages (from kaggle) (2.32.3)\n",
            "Requirement already satisfied: setuptools>=21.0.0 in /usr/local/lib/python3.11/dist-packages (from kaggle) (75.2.0)\n",
            "Requirement already satisfied: six>=1.10 in /usr/local/lib/python3.11/dist-packages (from kaggle) (1.17.0)\n",
            "Requirement already satisfied: text-unidecode in /usr/local/lib/python3.11/dist-packages (from kaggle) (1.3)\n",
            "Requirement already satisfied: tqdm in /usr/local/lib/python3.11/dist-packages (from kaggle) (4.67.1)\n",
            "Requirement already satisfied: urllib3>=1.15.1 in /usr/local/lib/python3.11/dist-packages (from kaggle) (2.3.0)\n",
            "Requirement already satisfied: webencodings in /usr/local/lib/python3.11/dist-packages (from kaggle) (0.5.1)\n"
          ]
        }
      ],
      "source": [
        "# %pip install kaggle"
      ]
    },
    {
      "cell_type": "code",
      "execution_count": null,
      "metadata": {},
      "outputs": [],
      "source": [
        "# %pip install ultralytics"
      ]
    },
    {
      "cell_type": "code",
      "execution_count": null,
      "metadata": {},
      "outputs": [],
      "source": [
        "# %pip install mlflow"
      ]
    },
    {
      "cell_type": "code",
      "execution_count": null,
      "metadata": {
        "colab": {
          "base_uri": "https://localhost:8080/"
        },
        "id": "zrjUz7KWRNYP",
        "outputId": "5a57e449-06be-4288-959c-d5299dfac09b"
      },
      "outputs": [
        {
          "name": "stdout",
          "output_type": "stream",
          "text": [
            "Mounted at /content/drive\n"
          ]
        }
      ],
      "source": [
        "from google.colab import drive\n",
        "drive.mount('/content/drive')"
      ]
    },
    {
      "cell_type": "code",
      "execution_count": null,
      "metadata": {
        "id": "k8vMFxAqQdQ7"
      },
      "outputs": [],
      "source": [
        "# imports\n",
        "import os\n",
        "from pathlib import Path\n",
        "import cv2\n",
        "import shutil\n",
        "import zipfile\n",
        "import tensorflow as tf\n",
        "import matplotlib.pyplot as plt\n",
        "from tqdm import tqdm\n",
        "import pandas as pd\n",
        "import numpy as np\n",
        "import seaborn as sns\n",
        "from PIL import Image\n",
        "from concurrent.futures import ThreadPoolExecutor\n",
        "\n",
        "from sklearn.model_selection import train_test_split\n",
        "\n",
        "data_dir = Path(\"/content/drive/MyDrive/Colab Notebooks/data\")\n",
        "data_dir.mkdir(parents=True, exist_ok=True)\n",
        "os.makedirs(\"/root/.config/kaggle/\", exist_ok=True)\n"
      ]
    },
    {
      "cell_type": "code",
      "execution_count": null,
      "metadata": {},
      "outputs": [],
      "source": [
        "# run it once\n",
        "shutil.move(\"kaggle.json\", \"/root/.config/kaggle/\") # manually upload your kaggle.json file and run it once\n",
        "!chmod 600 /root/.config/kaggle/kaggle.json\n",
        "import kaggle"
      ]
    },
    {
      "cell_type": "markdown",
      "metadata": {
        "id": "__DAnM6hQdQ8"
      },
      "source": [
        "Groepsnaam\n",
        "\n",
        "Groepsleden\n",
        "\n",
        "michal\n",
        "quincy\n",
        "henry\n",
        "moh\n",
        "jayden\n",
        "\n",
        "Opdrachtgever\n",
        "\n",
        "Tesla\n"
      ]
    },
    {
      "cell_type": "markdown",
      "metadata": {
        "id": "pUnOrFGeQdQ8"
      },
      "source": [
        "# 1. INLEIDING\n",
        "\n",
        "opdrachtbeschrijving\n",
        "\n",
        "\n",
        "Beschrijf het doel van de datapijplijn en geef een korte samenvatting van de stappen die je gaat volgen.\n"
      ]
    },
    {
      "cell_type": "markdown",
      "metadata": {
        "id": "7gDgkycaQdQ8"
      },
      "source": [
        "# 2. Data Ingestion\n",
        "Beschrijf hoe de data wordt ingeladen vanuit verschillende bronnen (Kaggle, Google Images, live camera feeds).\n",
        "\n",
        "\n",
        "Kaggle Datasets\n",
        "\n",
        "Beschrijf hoe je de datasets van Kaggle downloadt en inlaadt.\n",
        "\n",
        "Gebruik bijvoorbeeld de Kaggle API om de datasets te downloaden.\n",
        "\n",
        "Google Images\n",
        "\n",
        "Beschrijf hoe je afbeeldingen van Google Images haalt via web scraping of een API.\n",
        "\n",
        "Leg uit hoe je de afbeeldingen opslaat en organiseert.\n",
        "\n",
        "Live Camera Feeds\n",
        "\n",
        "Beschrijf hoe je live videofeeds verwerkt voor realtime voertuigdetectie.\n",
        "\n",
        "Leg uit hoe je frames uit de videofeeds haalt en deze gebruikt als input voor het model.\n",
        "\n"
      ]
    },
    {
      "cell_type": "markdown",
      "metadata": {
        "id": "6na4NkPgQdQ8"
      },
      "source": [
        "## 2.1 Kaggle Datasets"
      ]
    },
    {
      "cell_type": "code",
      "execution_count": null,
      "metadata": {
        "colab": {
          "base_uri": "https://localhost:8080/"
        },
        "id": "uGSBOmIWQdQ8",
        "outputId": "4ff75175-f20a-4b17-d244-aa58f30de7c8"
      },
      "outputs": [
        {
          "name": "stdout",
          "output_type": "stream",
          "text": [
            "Dataset URL: https://www.kaggle.com/datasets/sakshamjn/vehicle-detection-8-classes-object-detection\n"
          ]
        }
      ],
      "source": [
        "kaggle_path = str(data_dir + '/kaggle')\n",
        "os.makedirs(kaggle_path, exist_ok=True)\n",
        "\n",
        "kaggle.api.dataset_download_files(\"sakshamjn/vehicle-detection-8-classes-object-detection\", path=kaggle_path, unzip=True)"
      ]
    },
    {
      "cell_type": "code",
      "execution_count": 8,
      "metadata": {
        "id": "T88p1-KcxAgb"
      },
      "outputs": [],
      "source": [
        "images_path = \"/content/drive/MyDrive/Colab Notebooks/data/kaggle/train/images\"\n",
        "labels_path = \"/content/drive/MyDrive/Colab Notebooks/data/kaggle/train/labels\"\n",
        "\n",
        "images = [f for f in os.listdir(images_path) if f.endswith('.jpg')]\n",
        "labels = [f.replace('.jpg', '.txt') for f in images]"
      ]
    },
    {
      "cell_type": "code",
      "execution_count": null,
      "metadata": {},
      "outputs": [],
      "source": [
        "def extract_labels_and_bboxes(label_file):\n",
        "    with open(label_file, 'r') as f:\n",
        "        for line in f:\n",
        "            parts = line.strip().split(' ')\n",
        "            yield int(parts[0]), [float(x) for x in parts[1:]]"
      ]
    },
    {
      "cell_type": "code",
      "execution_count": null,
      "metadata": {},
      "outputs": [],
      "source": [
        "def load_kaggle_dataset(images_path, labels_path):\n",
        "    data = []\n",
        "    images = [f for f in os.listdir(images_path) if f.endswith('.jpg')]\n",
        "    labels = [f.replace('.jpg', '.txt') for f in images]\n",
        "\n",
        "    for img, lbl in tqdm(zip(images, labels), total=len(images)):\n",
        "        label_file = os.path.join(labels_path, lbl)\n",
        "        for label, bbox in extract_labels_and_bboxes(label_file):\n",
        "            data.append({\n",
        "                'image_path': os.path.join(images_path, img),\n",
        "                'label_path': label_file,\n",
        "                'label': label,\n",
        "                'x_center': bbox[0],\n",
        "                'y_center': bbox[1],\n",
        "                'width': bbox[2],\n",
        "                'height': bbox[3]\n",
        "            })\n",
        "    return pd.DataFrame(data)"
      ]
    },
    {
      "cell_type": "code",
      "execution_count": null,
      "metadata": {},
      "outputs": [],
      "source": [
        "csv_path = os.path.join(data_dir, 'kaggle_data.csv')\n",
        "if not os.path.exists(csv_path):\n",
        "    df_kaggle = load_kaggle_dataset(images_path, labels_path)\n",
        "    df_kaggle.to_csv(csv_path, index=False)\n",
        "else:\n",
        "    df_kaggle = pd.read_csv(csv_path)"
      ]
    },
    {
      "cell_type": "code",
      "execution_count": null,
      "metadata": {},
      "outputs": [],
      "source": [
        "display(df_kaggle.head(10))"
      ]
    },
    {
      "cell_type": "code",
      "execution_count": null,
      "metadata": {},
      "outputs": [],
      "source": [
        "def get_image_size(path):\n",
        "    try:\n",
        "        with Image.open(path) as img:\n",
        "            return img.size\n",
        "    except Exception as e:\n",
        "        print(f\"Fout bij openen van {path}: {e}\")\n",
        "        return None\n",
        "\n",
        "with ThreadPoolExecutor(max_workers=8) as executor:\n",
        "    sizes = list(executor.map(get_image_size, df_kaggle['image_path']))\n",
        "\n",
        "# Remove None values and get unique sizes\n",
        "image_sizes = sorted(set(s for s in sizes if s is not None))\n",
        "\n",
        "print(image_sizes)"
      ]
    },
    {
      "cell_type": "code",
      "execution_count": null,
      "metadata": {},
      "outputs": [],
      "source": [
        "def show_image_with_all_bboxes(df, class_names=None, filter_label=None, amount=5, shuffle=False):\n",
        "\n",
        "    if filter_label is not None:\n",
        "        unique_images = df[df['label'] == filter_label]['image_path'].unique()\n",
        "    else:\n",
        "        unique_images = df['image_path'].unique()\n",
        "\n",
        "    if shuffle:\n",
        "        np.random.shuffle(unique_images)\n",
        "\n",
        "    for image_path in unique_images[:amount]:\n",
        "        # Filter rows for the specific image\n",
        "        image_rows = df[df['image_path'] == image_path]\n",
        "\n",
        "        # Load the image\n",
        "        image = cv2.imread(image_path)\n",
        "        if image is None:\n",
        "            print(f\"Image not found: {image_path}\")\n",
        "            return\n",
        "        image = cv2.cvtColor(image, cv2.COLOR_BGR2RGB)\n",
        "        h, w, _ = image.shape\n",
        "\n",
        "        # Draw all bounding boxes for this image\n",
        "        for _, row in image_rows.iterrows():\n",
        "            cls = int(row['label'])\n",
        "            x_center, y_center = row['x_center'], row['y_center']\n",
        "            width, height = row['width'], row['height']\n",
        "\n",
        "            x1 = int((x_center - width / 2) * w)\n",
        "            y1 = int((y_center - height / 2) * h)\n",
        "            x2 = int((x_center + width / 2) * w)\n",
        "            y2 = int((y_center + height / 2) * h)\n",
        "\n",
        "            # Use different color for filter_label if provided\n",
        "            if filter_label is not None and cls == filter_label:\n",
        "                color = (0, 255, 0)  # Green for filtered label\n",
        "            else:\n",
        "                color = (255, 0, 0)  # Red for others\n",
        "\n",
        "            cv2.rectangle(image, (x1, y1), (x2, y2), color, 2)\n",
        "\n",
        "            label_text = class_names[cls] if class_names else str(cls)\n",
        "            cv2.putText(image, label_text, (x1, y1 - 10), cv2.FONT_HERSHEY_SIMPLEX, 0.6, color, 2)\n",
        "\n",
        "        # Show the result\n",
        "        plt.figure(figsize=(10, 10))\n",
        "        plt.imshow(image)\n",
        "        plt.axis('off')\n",
        "        plt.show()"
      ]
    },
    {
      "cell_type": "code",
      "execution_count": null,
      "metadata": {},
      "outputs": [],
      "source": [
        "show_image_with_all_bboxes(df_kaggle, filter_label=0)"
      ]
    },
    {
      "cell_type": "markdown",
      "metadata": {},
      "source": [
        "Kaggle dataframe Labels:  \n",
        "0 = Auto  \n",
        "1 = Bus  \n",
        "2 = Car  \n",
        "3 = LCV  \n",
        "4 = Motorcycle  \n",
        "5 = Multi-Axle  \n",
        "6 = Tractor  \n",
        "7 = Truck"
      ]
    },
    {
      "cell_type": "code",
      "execution_count": null,
      "metadata": {},
      "outputs": [],
      "source": []
    },
    {
      "cell_type": "markdown",
      "metadata": {
        "id": "FYMk0yW6QdQ8"
      },
      "source": [
        "## 2.2 Google Images\n"
      ]
    },
    {
      "cell_type": "code",
      "execution_count": null,
      "metadata": {
        "id": "-1EYdPwHQdQ8"
      },
      "outputs": [],
      "source": []
    },
    {
      "cell_type": "markdown",
      "metadata": {
        "id": "cjdGEqjJQdQ8"
      },
      "source": [
        "## 2.3 Live Camera Feeds\n"
      ]
    },
    {
      "cell_type": "code",
      "execution_count": null,
      "metadata": {
        "id": "e0zyCqv3QdQ8"
      },
      "outputs": [],
      "source": []
    },
    {
      "cell_type": "markdown",
      "metadata": {
        "id": "BI4SzLFmQdQ9"
      },
      "source": [
        "# 3. Data Opschonen en Transformeren\n",
        "\n",
        "Beschrijf de stappen voor data cleaning, data augmentation en data transformation.\n",
        "\n",
        "In deze sectie beschrijf je de stappen voor het opschonen en transformeren van de data. Gebruik markdown-cellen om elke stap te beschrijven en code-cellen om de transformaties uit te voeren.\n",
        "\n",
        "Data Cleaning\n",
        "\n",
        "Beschrijf hoe je de afbeeldingen opschoont (bijvoorbeeld door ze allemaal naar hetzelfde formaat te converteren).\n",
        "\n",
        "Voer kleurnormalisatie uit en pas cropping en padding toe waar nodig.\n",
        "\n",
        "Data Augmentation\n",
        "\n",
        "Beschrijf hoe je data augmentation toepast om de dataset te vergroten en het model robuuster te maken.\n",
        "\n",
        "Gebruik technieken zoals rotatie, spiegeling, schalen, translatie, shearing en cropping.\n",
        "\n",
        "Data Transformation\n",
        "\n",
        "Beschrijf hoe je de afbeeldingen transformeert om ze geschikt te maken voor machine learning (bijvoorbeeld normalisatie en kleurtransformaties)."
      ]
    },
    {
      "cell_type": "markdown",
      "metadata": {
        "id": "ndrHeKoFQdQ9"
      },
      "source": [
        "## 3.1 Data Cleaning"
      ]
    },
    {
      "cell_type": "code",
      "execution_count": null,
      "metadata": {},
      "outputs": [],
      "source": []
    },
    {
      "cell_type": "markdown",
      "metadata": {
        "id": "_6cyWCiDQdQ9"
      },
      "source": [
        "## 3.2 Data Augmentation"
      ]
    },
    {
      "cell_type": "code",
      "execution_count": null,
      "metadata": {
        "id": "kML6J1naQdQ9"
      },
      "outputs": [],
      "source": []
    },
    {
      "cell_type": "markdown",
      "metadata": {
        "id": "HzWvkseuQdQ9"
      },
      "source": [
        "## 3.3 Data Transformation"
      ]
    },
    {
      "cell_type": "code",
      "execution_count": null,
      "metadata": {
        "id": "UQdrfWqKQdQ9"
      },
      "outputs": [],
      "source": []
    },
    {
      "cell_type": "markdown",
      "metadata": {
        "id": "uky6myx2QdQ9"
      },
      "source": [
        "# 4. Machine Learning Pipeline\n",
        "\n",
        "Beschrijf hoe het objectdetectiemodel wordt getraind en geëvalueerd.\n",
        "\n",
        "\n",
        "In deze sectie beschrijf je hoe je het objectdetectiemodel traint en evalueert. Gebruik markdown-cellen om elke stap te beschrijven en code-cellen om het model te trainen en te evalueren.\n",
        "\n",
        "Objectdetectie Model\n",
        "\n",
        "Beschrijf hoe je een objectdetectiemodel (bijvoorbeeld YOLO, Faster R-CNN of EfficientDet) traint op de dataset.\n",
        "\n",
        "Leg uit hoe je het model evalueert met behulp van metrieken zoals precisie, recall en F1-score.\n",
        "\n",
        "Image Captioning\n",
        "\n",
        "Beschrijf eventueel hoe je een image captioning-model toevoegt om beschrijvingen van gedetecteerde voertuigen te genereren.\n",
        "\n"
      ]
    },
    {
      "cell_type": "markdown",
      "metadata": {
        "id": "y0EMhbMAQdQ9"
      },
      "source": [
        "## 4.1 Train-Test Split"
      ]
    },
    {
      "cell_type": "code",
      "execution_count": null,
      "metadata": {
        "id": "tygQM787QdQ9"
      },
      "outputs": [],
      "source": []
    },
    {
      "cell_type": "markdown",
      "metadata": {
        "id": "9FLuy_0-QdQ9"
      },
      "source": [
        "## 4.2 Model Bouwen"
      ]
    },
    {
      "cell_type": "code",
      "execution_count": null,
      "metadata": {
        "id": "HTlsqy2uQdQ9"
      },
      "outputs": [],
      "source": []
    },
    {
      "cell_type": "markdown",
      "metadata": {
        "id": "c6kovet7QdQ9"
      },
      "source": [
        "## 4.3 Model Trainen"
      ]
    },
    {
      "cell_type": "code",
      "execution_count": null,
      "metadata": {
        "id": "EfLm4_-TQdQ9"
      },
      "outputs": [],
      "source": []
    },
    {
      "cell_type": "markdown",
      "metadata": {
        "id": "2GGBCnI1QdQ9"
      },
      "source": [
        "## 4.4 Model Evalueren"
      ]
    },
    {
      "cell_type": "code",
      "execution_count": null,
      "metadata": {
        "id": "B8-aALL4QdQ9"
      },
      "outputs": [],
      "source": []
    },
    {
      "cell_type": "markdown",
      "metadata": {
        "id": "cbBPSIkUQdQ-"
      },
      "source": [
        "# 5. Deployment\n",
        "\n",
        "Beschrijf hoe het model wordt gedeployed op edge-apparaten en in de cloud.\n",
        "\n",
        "In deze sectie beschrijf je hoe je het model deployt op edge-apparaten en in de cloud. Gebruik markdown-cellen om de deploymentstrategie te beschrijven.\n",
        "\n",
        "Edge Deployment\n",
        "\n",
        "Beschrijf hoe je het model implementeert op edge-apparaten zoals slimme camera's of embedded systemen.\n",
        "\n",
        "Leg uit hoe je ervoor zorgt dat het model realtime voertuigdetectie kan uitvoeren.\n",
        "\n",
        "Cloud Deployment\n",
        "\n",
        "Beschrijf hoe je het geavanceerde deep learning-model in de cloud deployt voor voertuigclassificatie.\n",
        "\n"
      ]
    },
    {
      "cell_type": "markdown",
      "metadata": {
        "id": "TxiDu_LrQdQ-"
      },
      "source": [
        "## 5.1 Edge Deployment"
      ]
    },
    {
      "cell_type": "code",
      "execution_count": null,
      "metadata": {
        "id": "_Bbm3H5mQdQ-"
      },
      "outputs": [],
      "source": []
    },
    {
      "cell_type": "markdown",
      "metadata": {
        "id": "KXAHuDHRQdRB"
      },
      "source": [
        "## 5.2 Cloud Deployment"
      ]
    },
    {
      "cell_type": "code",
      "execution_count": null,
      "metadata": {
        "id": "1myVF9Q0QdRB"
      },
      "outputs": [],
      "source": []
    },
    {
      "cell_type": "markdown",
      "metadata": {
        "id": "xm_hHRIdQdRB"
      },
      "source": [
        "# 6. Monitoring en Feedback\n",
        "\n",
        "Beschrijf hoe de prestaties van het model worden gemonitord en hoe het model wordt hertraind op basis van nieuwe data.\n",
        "\n",
        "In deze sectie beschrijf je hoe je de prestaties van het model monitort en hoe je het model hertraind op basis van nieuwe data. Gebruik markdown-cellen om de monitoringstrategie te beschrijven.\n",
        "\n",
        "Data Drift Detection\n",
        "\n",
        "Beschrijf hoe je veranderingen in de inkomende data detecteert en hoe je hierop reageert.\n",
        "\n",
        "Model Performance Monitoring\n",
        "\n",
        "Beschrijf hoe je de nauwkeurigheid, recall en precision van het model continu monitort.\n",
        "\n",
        "Leg uit hoe je automatisch logging van verkeerde voorspellingen implementeert.\n",
        "\n",
        "Hertraining\n",
        "\n",
        "Beschrijf hoe je het model periodiek hertraind op basis van nieuwe data en feedback.\n",
        "\n",
        "7. Conclusie\n"
      ]
    },
    {
      "cell_type": "markdown",
      "metadata": {
        "id": "ypUthkrHQdRB"
      },
      "source": [
        "## 6.1 Data Drift Detection"
      ]
    },
    {
      "cell_type": "code",
      "execution_count": null,
      "metadata": {
        "id": "FAerww7tQdRB"
      },
      "outputs": [],
      "source": []
    },
    {
      "cell_type": "markdown",
      "metadata": {
        "id": "WarfJAa1QdRB"
      },
      "source": [
        "## 6.2 Hertraining"
      ]
    },
    {
      "cell_type": "code",
      "execution_count": null,
      "metadata": {
        "id": "uLQSwwI1QdRB"
      },
      "outputs": [],
      "source": []
    },
    {
      "cell_type": "markdown",
      "metadata": {
        "id": "ISF87ObeQdRB"
      },
      "source": [
        "# 7. Conclusie\n",
        "\n",
        "Geef een samenvatting van de datapijplijn en bespreek eventuele uitdagingen of verbeterpunten.\n",
        "\n",
        "In deze sectie geef je een samenvatting van de datapijplijn en bespreek je eventuele uitdagingen of verbeterpunten. Gebruik markdown-cellen om de conclusie te schrijven.\n",
        "\n",
        "\n"
      ]
    },
    {
      "cell_type": "markdown",
      "metadata": {
        "id": "ASn_qUZjQdRB"
      },
      "source": [
        "# 8. Bronvermelding"
      ]
    }
  ],
  "metadata": {
    "colab": {
      "include_colab_link": true,
      "provenance": []
    },
    "kernelspec": {
      "display_name": "base",
      "language": "python",
      "name": "python3"
    },
    "language_info": {
      "codemirror_mode": {
        "name": "ipython",
        "version": 3
      },
      "file_extension": ".py",
      "mimetype": "text/x-python",
      "name": "python",
      "nbconvert_exporter": "python",
      "pygments_lexer": "ipython3",
      "version": "3.12.4"
    }
  },
  "nbformat": 4,
  "nbformat_minor": 0
}
