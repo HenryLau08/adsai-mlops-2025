{
  "cells": [
    {
      "cell_type": "markdown",
      "metadata": {
        "id": "view-in-github",
        "colab_type": "text"
      },
      "source": [
        "<a href=\"https://colab.research.google.com/github/HenryLau08/adsai-mlops-2025/blob/main/MLOPS.ipynb\" target=\"_parent\"><img src=\"https://colab.research.google.com/assets/colab-badge.svg\" alt=\"Open In Colab\"/></a>"
      ]
    },
    {
      "cell_type": "markdown",
      "metadata": {
        "id": "Mp5P1RzxQdQ5"
      },
      "source": []
    },
    {
      "cell_type": "code",
      "execution_count": 1,
      "metadata": {
        "colab": {
          "base_uri": "https://localhost:8080/"
        },
        "id": "1s-mUWipQdQ6",
        "outputId": "28d814d4-39ba-42f7-ea0f-38a69edd204a"
      },
      "outputs": [
        {
          "output_type": "stream",
          "name": "stdout",
          "text": [
            "Collecting roboflow\n",
            "  Downloading roboflow-1.1.58-py3-none-any.whl.metadata (9.7 kB)\n",
            "Requirement already satisfied: certifi in /usr/local/lib/python3.11/dist-packages (from roboflow) (2025.1.31)\n",
            "Collecting idna==3.7 (from roboflow)\n",
            "  Downloading idna-3.7-py3-none-any.whl.metadata (9.9 kB)\n",
            "Requirement already satisfied: cycler in /usr/local/lib/python3.11/dist-packages (from roboflow) (0.12.1)\n",
            "Requirement already satisfied: kiwisolver>=1.3.1 in /usr/local/lib/python3.11/dist-packages (from roboflow) (1.4.8)\n",
            "Requirement already satisfied: matplotlib in /usr/local/lib/python3.11/dist-packages (from roboflow) (3.10.0)\n",
            "Requirement already satisfied: numpy>=1.18.5 in /usr/local/lib/python3.11/dist-packages (from roboflow) (1.26.4)\n",
            "Collecting opencv-python-headless==4.10.0.84 (from roboflow)\n",
            "  Downloading opencv_python_headless-4.10.0.84-cp37-abi3-manylinux_2_17_x86_64.manylinux2014_x86_64.whl.metadata (20 kB)\n",
            "Requirement already satisfied: Pillow>=7.1.2 in /usr/local/lib/python3.11/dist-packages (from roboflow) (11.1.0)\n",
            "Collecting pillow-heif>=0.18.0 (from roboflow)\n",
            "  Downloading pillow_heif-0.22.0-cp311-cp311-manylinux_2_17_x86_64.manylinux2014_x86_64.whl.metadata (9.6 kB)\n",
            "Requirement already satisfied: python-dateutil in /usr/local/lib/python3.11/dist-packages (from roboflow) (2.8.2)\n",
            "Collecting python-dotenv (from roboflow)\n",
            "  Downloading python_dotenv-1.0.1-py3-none-any.whl.metadata (23 kB)\n",
            "Requirement already satisfied: requests in /usr/local/lib/python3.11/dist-packages (from roboflow) (2.32.3)\n",
            "Requirement already satisfied: six in /usr/local/lib/python3.11/dist-packages (from roboflow) (1.17.0)\n",
            "Requirement already satisfied: urllib3>=1.26.6 in /usr/local/lib/python3.11/dist-packages (from roboflow) (2.3.0)\n",
            "Requirement already satisfied: tqdm>=4.41.0 in /usr/local/lib/python3.11/dist-packages (from roboflow) (4.67.1)\n",
            "Requirement already satisfied: PyYAML>=5.3.1 in /usr/local/lib/python3.11/dist-packages (from roboflow) (6.0.2)\n",
            "Requirement already satisfied: requests-toolbelt in /usr/local/lib/python3.11/dist-packages (from roboflow) (1.0.0)\n",
            "Collecting filetype (from roboflow)\n",
            "  Downloading filetype-1.2.0-py2.py3-none-any.whl.metadata (6.5 kB)\n",
            "Requirement already satisfied: contourpy>=1.0.1 in /usr/local/lib/python3.11/dist-packages (from matplotlib->roboflow) (1.3.1)\n",
            "Requirement already satisfied: fonttools>=4.22.0 in /usr/local/lib/python3.11/dist-packages (from matplotlib->roboflow) (4.56.0)\n",
            "Requirement already satisfied: packaging>=20.0 in /usr/local/lib/python3.11/dist-packages (from matplotlib->roboflow) (24.2)\n",
            "Requirement already satisfied: pyparsing>=2.3.1 in /usr/local/lib/python3.11/dist-packages (from matplotlib->roboflow) (3.2.1)\n",
            "Requirement already satisfied: charset-normalizer<4,>=2 in /usr/local/lib/python3.11/dist-packages (from requests->roboflow) (3.4.1)\n",
            "Downloading roboflow-1.1.58-py3-none-any.whl (84 kB)\n",
            "\u001b[2K   \u001b[90m━━━━━━━━━━━━━━━━━━━━━━━━━━━━━━━━━━━━━━━━\u001b[0m \u001b[32m84.5/84.5 kB\u001b[0m \u001b[31m3.0 MB/s\u001b[0m eta \u001b[36m0:00:00\u001b[0m\n",
            "\u001b[?25hDownloading idna-3.7-py3-none-any.whl (66 kB)\n",
            "\u001b[2K   \u001b[90m━━━━━━━━━━━━━━━━━━━━━━━━━━━━━━━━━━━━━━━━\u001b[0m \u001b[32m66.8/66.8 kB\u001b[0m \u001b[31m3.8 MB/s\u001b[0m eta \u001b[36m0:00:00\u001b[0m\n",
            "\u001b[?25hDownloading opencv_python_headless-4.10.0.84-cp37-abi3-manylinux_2_17_x86_64.manylinux2014_x86_64.whl (49.9 MB)\n",
            "\u001b[2K   \u001b[90m━━━━━━━━━━━━━━━━━━━━━━━━━━━━━━━━━━━━━━━━\u001b[0m \u001b[32m49.9/49.9 MB\u001b[0m \u001b[31m19.1 MB/s\u001b[0m eta \u001b[36m0:00:00\u001b[0m\n",
            "\u001b[?25hDownloading pillow_heif-0.22.0-cp311-cp311-manylinux_2_17_x86_64.manylinux2014_x86_64.whl (7.8 MB)\n",
            "\u001b[2K   \u001b[90m━━━━━━━━━━━━━━━━━━━━━━━━━━━━━━━━━━━━━━━━\u001b[0m \u001b[32m7.8/7.8 MB\u001b[0m \u001b[31m65.7 MB/s\u001b[0m eta \u001b[36m0:00:00\u001b[0m\n",
            "\u001b[?25hDownloading filetype-1.2.0-py2.py3-none-any.whl (19 kB)\n",
            "Downloading python_dotenv-1.0.1-py3-none-any.whl (19 kB)\n",
            "Installing collected packages: filetype, python-dotenv, pillow-heif, opencv-python-headless, idna, roboflow\n",
            "  Attempting uninstall: opencv-python-headless\n",
            "    Found existing installation: opencv-python-headless 4.11.0.86\n",
            "    Uninstalling opencv-python-headless-4.11.0.86:\n",
            "      Successfully uninstalled opencv-python-headless-4.11.0.86\n",
            "  Attempting uninstall: idna\n",
            "    Found existing installation: idna 3.10\n",
            "    Uninstalling idna-3.10:\n",
            "      Successfully uninstalled idna-3.10\n",
            "Successfully installed filetype-1.2.0 idna-3.7 opencv-python-headless-4.10.0.84 pillow-heif-0.22.0 python-dotenv-1.0.1 roboflow-1.1.58\n"
          ]
        }
      ],
      "source": [
        "%pip install roboflow"
      ]
    },
    {
      "cell_type": "code",
      "execution_count": 2,
      "metadata": {
        "colab": {
          "base_uri": "https://localhost:8080/"
        },
        "id": "E-A5Y6GpQdQ7",
        "outputId": "e0f2e6f8-0cbd-4663-c294-f4592015c787"
      },
      "outputs": [
        {
          "output_type": "stream",
          "name": "stdout",
          "text": [
            "Requirement already satisfied: kaggle in /usr/local/lib/python3.11/dist-packages (1.6.17)\n",
            "Requirement already satisfied: six>=1.10 in /usr/local/lib/python3.11/dist-packages (from kaggle) (1.17.0)\n",
            "Requirement already satisfied: certifi>=2023.7.22 in /usr/local/lib/python3.11/dist-packages (from kaggle) (2025.1.31)\n",
            "Requirement already satisfied: python-dateutil in /usr/local/lib/python3.11/dist-packages (from kaggle) (2.8.2)\n",
            "Requirement already satisfied: requests in /usr/local/lib/python3.11/dist-packages (from kaggle) (2.32.3)\n",
            "Requirement already satisfied: tqdm in /usr/local/lib/python3.11/dist-packages (from kaggle) (4.67.1)\n",
            "Requirement already satisfied: python-slugify in /usr/local/lib/python3.11/dist-packages (from kaggle) (8.0.4)\n",
            "Requirement already satisfied: urllib3 in /usr/local/lib/python3.11/dist-packages (from kaggle) (2.3.0)\n",
            "Requirement already satisfied: bleach in /usr/local/lib/python3.11/dist-packages (from kaggle) (6.2.0)\n",
            "Requirement already satisfied: webencodings in /usr/local/lib/python3.11/dist-packages (from bleach->kaggle) (0.5.1)\n",
            "Requirement already satisfied: text-unidecode>=1.3 in /usr/local/lib/python3.11/dist-packages (from python-slugify->kaggle) (1.3)\n",
            "Requirement already satisfied: charset-normalizer<4,>=2 in /usr/local/lib/python3.11/dist-packages (from requests->kaggle) (3.4.1)\n",
            "Requirement already satisfied: idna<4,>=2.5 in /usr/local/lib/python3.11/dist-packages (from requests->kaggle) (3.7)\n"
          ]
        }
      ],
      "source": [
        "%pip install kaggle"
      ]
    },
    {
      "cell_type": "code",
      "source": [
        "from google.colab import drive\n",
        "drive.mount('/content/drive')"
      ],
      "metadata": {
        "colab": {
          "base_uri": "https://localhost:8080/"
        },
        "id": "zrjUz7KWRNYP",
        "outputId": "7b47c9dd-2055-44f4-9fe1-83eb4aa74728"
      },
      "execution_count": 5,
      "outputs": [
        {
          "output_type": "stream",
          "name": "stdout",
          "text": [
            "Drive already mounted at /content/drive; to attempt to forcibly remount, call drive.mount(\"/content/drive\", force_remount=True).\n"
          ]
        }
      ]
    },
    {
      "cell_type": "code",
      "execution_count": 6,
      "metadata": {
        "id": "k8vMFxAqQdQ7"
      },
      "outputs": [],
      "source": [
        "!chmod 600 /root/.config/kaggle/kaggle.json\n",
        "\n",
        "# imports\n",
        "import os\n",
        "from roboflow import Roboflow\n",
        "import shutil\n",
        "import zipfile\n",
        "\n",
        "robo_api_key = \"sGinQr2B54FkDko52rnT\" # Set your roboflow api key\n",
        "data_dir = \"/content/drive/MyDrive/Colab Notebooks/data\"\n",
        "os.makedirs(data_dir, exist_ok=True)\n",
        "os.makedirs(\"/root/.config/kaggle/\", exist_ok=True)\n",
        "# shutil.move(\"kaggle.json\", \"/root/.config/kaggle/\") # manually upload your kaggle.json file and run it once\n",
        "\n",
        "import kaggle\n"
      ]
    },
    {
      "cell_type": "markdown",
      "metadata": {
        "id": "__DAnM6hQdQ8"
      },
      "source": [
        "Groepsnaam\n",
        "\n",
        "Groepsleden\n",
        "\n",
        "michal\n",
        "quincy\n",
        "henry\n",
        "moh\n",
        "jayden\n",
        "\n",
        "Opdrachtgever\n",
        "\n",
        "Tesla\n"
      ]
    },
    {
      "cell_type": "markdown",
      "metadata": {
        "id": "pUnOrFGeQdQ8"
      },
      "source": [
        "# 1. INLEIDING\n",
        "\n",
        "opdrachtbeschrijving\n",
        "\n",
        "\n",
        "Beschrijf het doel van de datapijplijn en geef een korte samenvatting van de stappen die je gaat volgen.\n"
      ]
    },
    {
      "cell_type": "markdown",
      "metadata": {
        "id": "7gDgkycaQdQ8"
      },
      "source": [
        "# 2. Data Ingestion\n",
        "Beschrijf hoe de data wordt ingeladen vanuit verschillende bronnen (Kaggle, Google Images, live camera feeds).\n",
        "\n",
        "\n",
        "Kaggle Datasets\n",
        "\n",
        "Beschrijf hoe je de datasets van Kaggle downloadt en inlaadt.\n",
        "\n",
        "Gebruik bijvoorbeeld de Kaggle API om de datasets te downloaden.\n",
        "\n",
        "Google Images\n",
        "\n",
        "Beschrijf hoe je afbeeldingen van Google Images haalt via web scraping of een API.\n",
        "\n",
        "Leg uit hoe je de afbeeldingen opslaat en organiseert.\n",
        "\n",
        "Live Camera Feeds\n",
        "\n",
        "Beschrijf hoe je live videofeeds verwerkt voor realtime voertuigdetectie.\n",
        "\n",
        "Leg uit hoe je frames uit de videofeeds haalt en deze gebruikt als input voor het model.\n",
        "\n"
      ]
    },
    {
      "cell_type": "markdown",
      "metadata": {
        "id": "6na4NkPgQdQ8"
      },
      "source": [
        "## 2.1 Kaggle Datasets"
      ]
    },
    {
      "cell_type": "code",
      "execution_count": 7,
      "metadata": {
        "colab": {
          "base_uri": "https://localhost:8080/"
        },
        "id": "uGSBOmIWQdQ8",
        "outputId": "4ff75175-f20a-4b17-d244-aa58f30de7c8"
      },
      "outputs": [
        {
          "output_type": "stream",
          "name": "stdout",
          "text": [
            "Dataset URL: https://www.kaggle.com/datasets/sakshamjn/vehicle-detection-8-classes-object-detection\n"
          ]
        }
      ],
      "source": [
        "kaggle_path = str(data_dir + '/kaggle')\n",
        "os.makedirs(kaggle_path, exist_ok=True)\n",
        "\n",
        "kaggle.api.dataset_download_files(\"sakshamjn/vehicle-detection-8-classes-object-detection\", path=kaggle_path, unzip=True)"
      ]
    },
    {
      "cell_type": "markdown",
      "metadata": {
        "id": "FYMk0yW6QdQ8"
      },
      "source": [
        "## 2.2 Google Images\n"
      ]
    },
    {
      "cell_type": "code",
      "execution_count": null,
      "metadata": {
        "id": "-1EYdPwHQdQ8"
      },
      "outputs": [],
      "source": []
    },
    {
      "cell_type": "markdown",
      "metadata": {
        "id": "cjdGEqjJQdQ8"
      },
      "source": [
        "## 2.3 Live Camera Feeds\n"
      ]
    },
    {
      "cell_type": "code",
      "execution_count": null,
      "metadata": {
        "id": "e0zyCqv3QdQ8"
      },
      "outputs": [],
      "source": []
    },
    {
      "cell_type": "markdown",
      "metadata": {
        "id": "Z5W_h8vTQdQ9"
      },
      "source": [
        "## 2.4 RoboFlow Datasets"
      ]
    },
    {
      "cell_type": "code",
      "execution_count": 8,
      "metadata": {
        "id": "0q3i8bIGQdQ9"
      },
      "outputs": [],
      "source": [
        "rf = Roboflow(api_key=robo_api_key)"
      ]
    },
    {
      "cell_type": "code",
      "execution_count": 9,
      "metadata": {
        "colab": {
          "base_uri": "https://localhost:8080/",
          "height": 122
        },
        "id": "CfC1OY6wQdQ9",
        "outputId": "b10cb99e-8b21-46d6-b506-97980457edf1"
      },
      "outputs": [
        {
          "output_type": "stream",
          "name": "stdout",
          "text": [
            "loading Roboflow workspace...\n",
            "loading Roboflow project...\n"
          ]
        },
        {
          "output_type": "stream",
          "name": "stderr",
          "text": [
            "Downloading Dataset Version Zip in vehicle-detection-2 to tfrecord:: 100%|██████████| 399934/399934 [00:08<00:00, 45797.01it/s]"
          ]
        },
        {
          "output_type": "stream",
          "name": "stdout",
          "text": [
            "\n"
          ]
        },
        {
          "output_type": "stream",
          "name": "stderr",
          "text": [
            "\n",
            "Extracting Dataset Version Zip to vehicle-detection-2 in tfrecord:: 100%|██████████| 11/11 [00:01<00:00,  6.36it/s]\n"
          ]
        },
        {
          "output_type": "execute_result",
          "data": {
            "text/plain": [
              "'/content/drive/MyDrive/Colab Notebooks/data/vehicle-detection-2'"
            ],
            "application/vnd.google.colaboratory.intrinsic+json": {
              "type": "string"
            }
          },
          "metadata": {},
          "execution_count": 9
        }
      ],
      "source": [
        "project = rf.workspace(\"lynkeus-01\").project(\"vehicle-detection-iusts\")\n",
        "version = project.version(2)\n",
        "dataset = version.download(\"tfrecord\")\n",
        "dataset_location = dataset.location\n",
        "shutil.move(dataset_location, data_dir)"
      ]
    },
    {
      "cell_type": "code",
      "execution_count": 10,
      "metadata": {
        "colab": {
          "base_uri": "https://localhost:8080/",
          "height": 122
        },
        "id": "ZnDuIrMSQdQ9",
        "outputId": "ebed1cb6-169a-4049-ec16-e07f950d3dab"
      },
      "outputs": [
        {
          "output_type": "stream",
          "name": "stdout",
          "text": [
            "loading Roboflow workspace...\n",
            "loading Roboflow project...\n"
          ]
        },
        {
          "output_type": "stream",
          "name": "stderr",
          "text": [
            "Downloading Dataset Version Zip in VEHICLES-5 to tfrecord:: 100%|██████████| 284613/284613 [00:06<00:00, 44209.97it/s]"
          ]
        },
        {
          "output_type": "stream",
          "name": "stdout",
          "text": [
            "\n"
          ]
        },
        {
          "output_type": "stream",
          "name": "stderr",
          "text": [
            "\n",
            "Extracting Dataset Version Zip to VEHICLES-5 in tfrecord:: 100%|██████████| 8/8 [00:01<00:00,  7.61it/s]\n"
          ]
        },
        {
          "output_type": "execute_result",
          "data": {
            "text/plain": [
              "'/content/drive/MyDrive/Colab Notebooks/data/VEHICLES-5'"
            ],
            "application/vnd.google.colaboratory.intrinsic+json": {
              "type": "string"
            }
          },
          "metadata": {},
          "execution_count": 10
        }
      ],
      "source": [
        "project = rf.workspace(\"pedroluis897-gmail-com\").project(\"vehicles-erclb\")\n",
        "version = project.version(5)\n",
        "dataset = version.download(\"tfrecord\")\n",
        "dataset_location = dataset.location\n",
        "shutil.move(dataset_location, data_dir)"
      ]
    },
    {
      "cell_type": "code",
      "execution_count": null,
      "metadata": {
        "id": "yU_AR2VLQdQ9"
      },
      "outputs": [],
      "source": []
    },
    {
      "cell_type": "markdown",
      "metadata": {
        "id": "BI4SzLFmQdQ9"
      },
      "source": [
        "# 3. Data Opschonen en Transformeren\n",
        "\n",
        "Beschrijf de stappen voor data cleaning, data augmentation en data transformation.\n",
        "\n",
        "In deze sectie beschrijf je de stappen voor het opschonen en transformeren van de data. Gebruik markdown-cellen om elke stap te beschrijven en code-cellen om de transformaties uit te voeren.\n",
        "\n",
        "Data Cleaning\n",
        "\n",
        "Beschrijf hoe je de afbeeldingen opschoont (bijvoorbeeld door ze allemaal naar hetzelfde formaat te converteren).\n",
        "\n",
        "Voer kleurnormalisatie uit en pas cropping en padding toe waar nodig.\n",
        "\n",
        "Data Augmentation\n",
        "\n",
        "Beschrijf hoe je data augmentation toepast om de dataset te vergroten en het model robuuster te maken.\n",
        "\n",
        "Gebruik technieken zoals rotatie, spiegeling, schalen, translatie, shearing en cropping.\n",
        "\n",
        "Data Transformation\n",
        "\n",
        "Beschrijf hoe je de afbeeldingen transformeert om ze geschikt te maken voor machine learning (bijvoorbeeld normalisatie en kleurtransformaties)."
      ]
    },
    {
      "cell_type": "markdown",
      "metadata": {
        "id": "ndrHeKoFQdQ9"
      },
      "source": [
        "## 3.1 Data Cleaning"
      ]
    },
    {
      "cell_type": "code",
      "execution_count": null,
      "metadata": {
        "id": "tU1NbbpKQdQ9"
      },
      "outputs": [],
      "source": []
    },
    {
      "cell_type": "markdown",
      "metadata": {
        "id": "_6cyWCiDQdQ9"
      },
      "source": [
        "## 3.2 Data Augmentation"
      ]
    },
    {
      "cell_type": "code",
      "execution_count": null,
      "metadata": {
        "id": "kML6J1naQdQ9"
      },
      "outputs": [],
      "source": []
    },
    {
      "cell_type": "markdown",
      "metadata": {
        "id": "HzWvkseuQdQ9"
      },
      "source": [
        "## 3.3 Data Transformation"
      ]
    },
    {
      "cell_type": "code",
      "execution_count": null,
      "metadata": {
        "id": "UQdrfWqKQdQ9"
      },
      "outputs": [],
      "source": []
    },
    {
      "cell_type": "markdown",
      "metadata": {
        "id": "uky6myx2QdQ9"
      },
      "source": [
        "# 4. Machine Learning Pipeline\n",
        "\n",
        "Beschrijf hoe het objectdetectiemodel wordt getraind en geëvalueerd.\n",
        "\n",
        "\n",
        "In deze sectie beschrijf je hoe je het objectdetectiemodel traint en evalueert. Gebruik markdown-cellen om elke stap te beschrijven en code-cellen om het model te trainen en te evalueren.\n",
        "\n",
        "Objectdetectie Model\n",
        "\n",
        "Beschrijf hoe je een objectdetectiemodel (bijvoorbeeld YOLO, Faster R-CNN of EfficientDet) traint op de dataset.\n",
        "\n",
        "Leg uit hoe je het model evalueert met behulp van metrieken zoals precisie, recall en F1-score.\n",
        "\n",
        "Image Captioning\n",
        "\n",
        "Beschrijf eventueel hoe je een image captioning-model toevoegt om beschrijvingen van gedetecteerde voertuigen te genereren.\n",
        "\n"
      ]
    },
    {
      "cell_type": "markdown",
      "metadata": {
        "id": "y0EMhbMAQdQ9"
      },
      "source": [
        "## 4.1 Train-Test Split"
      ]
    },
    {
      "cell_type": "code",
      "execution_count": null,
      "metadata": {
        "id": "tygQM787QdQ9"
      },
      "outputs": [],
      "source": []
    },
    {
      "cell_type": "markdown",
      "metadata": {
        "id": "9FLuy_0-QdQ9"
      },
      "source": [
        "## 4.2 Model Bouwen"
      ]
    },
    {
      "cell_type": "code",
      "execution_count": null,
      "metadata": {
        "id": "HTlsqy2uQdQ9"
      },
      "outputs": [],
      "source": []
    },
    {
      "cell_type": "markdown",
      "metadata": {
        "id": "c6kovet7QdQ9"
      },
      "source": [
        "## 4.3 Model Trainen"
      ]
    },
    {
      "cell_type": "code",
      "execution_count": null,
      "metadata": {
        "id": "EfLm4_-TQdQ9"
      },
      "outputs": [],
      "source": []
    },
    {
      "cell_type": "markdown",
      "metadata": {
        "id": "2GGBCnI1QdQ9"
      },
      "source": [
        "## 4.4 Model Evalueren"
      ]
    },
    {
      "cell_type": "code",
      "execution_count": null,
      "metadata": {
        "id": "B8-aALL4QdQ9"
      },
      "outputs": [],
      "source": []
    },
    {
      "cell_type": "markdown",
      "metadata": {
        "id": "cbBPSIkUQdQ-"
      },
      "source": [
        "# 5. Deployment\n",
        "\n",
        "Beschrijf hoe het model wordt gedeployed op edge-apparaten en in de cloud.\n",
        "\n",
        "In deze sectie beschrijf je hoe je het model deployt op edge-apparaten en in de cloud. Gebruik markdown-cellen om de deploymentstrategie te beschrijven.\n",
        "\n",
        "Edge Deployment\n",
        "\n",
        "Beschrijf hoe je het model implementeert op edge-apparaten zoals slimme camera's of embedded systemen.\n",
        "\n",
        "Leg uit hoe je ervoor zorgt dat het model realtime voertuigdetectie kan uitvoeren.\n",
        "\n",
        "Cloud Deployment\n",
        "\n",
        "Beschrijf hoe je het geavanceerde deep learning-model in de cloud deployt voor voertuigclassificatie.\n",
        "\n"
      ]
    },
    {
      "cell_type": "markdown",
      "metadata": {
        "id": "TxiDu_LrQdQ-"
      },
      "source": [
        "## 5.1 Edge Deployment"
      ]
    },
    {
      "cell_type": "code",
      "execution_count": null,
      "metadata": {
        "id": "_Bbm3H5mQdQ-"
      },
      "outputs": [],
      "source": []
    },
    {
      "cell_type": "markdown",
      "metadata": {
        "id": "KXAHuDHRQdRB"
      },
      "source": [
        "## 5.2 Cloud Deployment"
      ]
    },
    {
      "cell_type": "code",
      "execution_count": null,
      "metadata": {
        "id": "1myVF9Q0QdRB"
      },
      "outputs": [],
      "source": []
    },
    {
      "cell_type": "markdown",
      "metadata": {
        "id": "xm_hHRIdQdRB"
      },
      "source": [
        "# 6. Monitoring en Feedback\n",
        "\n",
        "Beschrijf hoe de prestaties van het model worden gemonitord en hoe het model wordt hertraind op basis van nieuwe data.\n",
        "\n",
        "In deze sectie beschrijf je hoe je de prestaties van het model monitort en hoe je het model hertraind op basis van nieuwe data. Gebruik markdown-cellen om de monitoringstrategie te beschrijven.\n",
        "\n",
        "Data Drift Detection\n",
        "\n",
        "Beschrijf hoe je veranderingen in de inkomende data detecteert en hoe je hierop reageert.\n",
        "\n",
        "Model Performance Monitoring\n",
        "\n",
        "Beschrijf hoe je de nauwkeurigheid, recall en precision van het model continu monitort.\n",
        "\n",
        "Leg uit hoe je automatisch logging van verkeerde voorspellingen implementeert.\n",
        "\n",
        "Hertraining\n",
        "\n",
        "Beschrijf hoe je het model periodiek hertraind op basis van nieuwe data en feedback.\n",
        "\n",
        "7. Conclusie\n"
      ]
    },
    {
      "cell_type": "markdown",
      "metadata": {
        "id": "ypUthkrHQdRB"
      },
      "source": [
        "## 6.1 Data Drift Detection"
      ]
    },
    {
      "cell_type": "code",
      "execution_count": null,
      "metadata": {
        "id": "FAerww7tQdRB"
      },
      "outputs": [],
      "source": []
    },
    {
      "cell_type": "markdown",
      "metadata": {
        "id": "WarfJAa1QdRB"
      },
      "source": [
        "## 6.2 Hertraining"
      ]
    },
    {
      "cell_type": "code",
      "execution_count": null,
      "metadata": {
        "id": "uLQSwwI1QdRB"
      },
      "outputs": [],
      "source": []
    },
    {
      "cell_type": "markdown",
      "metadata": {
        "id": "ISF87ObeQdRB"
      },
      "source": [
        "# 7. Conclusie\n",
        "\n",
        "Geef een samenvatting van de datapijplijn en bespreek eventuele uitdagingen of verbeterpunten.\n",
        "\n",
        "In deze sectie geef je een samenvatting van de datapijplijn en bespreek je eventuele uitdagingen of verbeterpunten. Gebruik markdown-cellen om de conclusie te schrijven.\n",
        "\n",
        "\n"
      ]
    },
    {
      "cell_type": "markdown",
      "metadata": {
        "id": "ASn_qUZjQdRB"
      },
      "source": [
        "# 8. Bronvermelding"
      ]
    }
  ],
  "metadata": {
    "kernelspec": {
      "display_name": "base",
      "language": "python",
      "name": "python3"
    },
    "language_info": {
      "codemirror_mode": {
        "name": "ipython",
        "version": 3
      },
      "file_extension": ".py",
      "mimetype": "text/x-python",
      "name": "python",
      "nbconvert_exporter": "python",
      "pygments_lexer": "ipython3",
      "version": "3.12.4"
    },
    "colab": {
      "provenance": [],
      "include_colab_link": true
    }
  },
  "nbformat": 4,
  "nbformat_minor": 0
}